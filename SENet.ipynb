{
  "nbformat": 4,
  "nbformat_minor": 0,
  "metadata": {
    "kernelspec": {
      "display_name": "Python 3",
      "language": "python",
      "name": "python3"
    },
    "language_info": {
      "codemirror_mode": {
        "name": "ipython",
        "version": 3
      },
      "file_extension": ".py",
      "mimetype": "text/x-python",
      "name": "python",
      "nbconvert_exporter": "python",
      "pygments_lexer": "ipython3",
      "version": "3.7.0"
    },
    "colab": {
      "name": "SENet.ipynb",
      "provenance": [],
      "include_colab_link": true
    }
  },
  "cells": [
    {
      "cell_type": "markdown",
      "metadata": {
        "id": "view-in-github",
        "colab_type": "text"
      },
      "source": [
        "<a href=\"https://colab.research.google.com/github/tanghuakang/A-SMD-Based-Domain-Adaptive-Change-Detection-Method/blob/main/SENet.ipynb\" target=\"_parent\"><img src=\"https://colab.research.google.com/assets/colab-badge.svg\" alt=\"Open In Colab\"/></a>"
      ]
    },
    {
      "cell_type": "markdown",
      "metadata": {
        "id": "3X-6iEUw7q-U"
      },
      "source": [
        "# Image enhancement"
      ]
    },
    {
      "cell_type": "code",
      "metadata": {
        "id": "COjhcy517q-d"
      },
      "source": [
        "import matplotlib.pyplot as plt\n",
        "import numpy as np\n",
        "import tensorflow as tf\n",
        "# import tensorflow_datasets as tfds\n",
        "\n",
        "from tensorflow.keras import layers\n",
        "from tensorflow.keras.datasets import mnist"
      ],
      "execution_count": null,
      "outputs": []
    },
    {
      "cell_type": "code",
      "metadata": {
        "id": "rGHYD2037q-e"
      },
      "source": [
        "tfds = tf.keras.datasets.mnist"
      ],
      "execution_count": null,
      "outputs": []
    },
    {
      "cell_type": "code",
      "metadata": {
        "id": "XruYUj3U7q-e"
      },
      "source": [
        "(train_img, train_label), (test_img, test_label) = tfds.load_data()"
      ],
      "execution_count": null,
      "outputs": []
    },
    {
      "cell_type": "code",
      "metadata": {
        "id": "Knf4aHT57q-e",
        "outputId": "99585e93-efcc-44d4-c1e1-69ea6396c461"
      },
      "source": [
        "train_img.shape"
      ],
      "execution_count": null,
      "outputs": [
        {
          "output_type": "execute_result",
          "data": {
            "text/plain": [
              "(60000, 28, 28)"
            ]
          },
          "metadata": {
            "tags": []
          },
          "execution_count": 8
        }
      ]
    },
    {
      "cell_type": "code",
      "metadata": {
        "id": "D-9xq_q57q-g",
        "outputId": "6f535e6d-60cb-46e3-c5b0-8060303b6489"
      },
      "source": [
        "type(train_img[0])"
      ],
      "execution_count": null,
      "outputs": [
        {
          "output_type": "execute_result",
          "data": {
            "text/plain": [
              "numpy.ndarray"
            ]
          },
          "metadata": {
            "tags": []
          },
          "execution_count": 9
        }
      ]
    },
    {
      "cell_type": "markdown",
      "metadata": {
        "id": "rtNJnSRz7q-g"
      },
      "source": [
        "# SENet import channel"
      ]
    },
    {
      "cell_type": "markdown",
      "metadata": {
        "id": "qiAbvQE-7q-g"
      },
      "source": [
        "16feature maps + 3 difference maps"
      ]
    },
    {
      "cell_type": "code",
      "metadata": {
        "id": "-uJPaktU7q-h"
      },
      "source": [
        "import glob\n",
        "import re\n",
        "import tensorflow as tf"
      ],
      "execution_count": null,
      "outputs": []
    },
    {
      "cell_type": "code",
      "metadata": {
        "id": "UefoLycy7q-h"
      },
      "source": [
        "img1_path = glob.glob(\"E:/RS_datasets/SZTAKI_AirChange_Benchmark/SZTAKI_AirChange_Benchmark/Szada/Szada_sub_png/im_one/*.png\")\n",
        "img2_path = glob.glob(\"E:/RS_datasets/SZTAKI_AirChange_Benchmark/SZTAKI_AirChange_Benchmark/Szada/Szada_sub_png/im_two/*.png\")\n",
        "label_path = glob.glob(\"E:/RS_datasets/SZTAKI_AirChange_Benchmark/SZTAKI_AirChange_Benchmark/Szada/Szada_sub_png/ground_truth/*.png\")\n",
        "img_chazhi = glob.glob(\"E:/RS_datasets/SZTAKI_AirChange_Benchmark/SZTAKI_AirChange_Benchmark/Szada/Szada_sub_png/two_png_sub/*.png\")"
      ],
      "execution_count": null,
      "outputs": []
    },
    {
      "cell_type": "code",
      "metadata": {
        "id": "EfKUAcAf7q-h"
      },
      "source": [
        "img1_path = sorted(img1_path,key = lambda i:int(re.search(r'(\\d+)',i).group()))\n",
        "img2_path = sorted(img2_path,key = lambda i:int(re.search(r'(\\d+)',i).group()))\n",
        "label_path = sorted(label_path,key = lambda i:int(re.search(r'(\\d+)',i).group()))\n",
        "img_chazhi = sorted(img_chazhi,key = lambda i:int(re.search(r'(\\d+)',i).group()))"
      ],
      "execution_count": null,
      "outputs": []
    },
    {
      "cell_type": "code",
      "metadata": {
        "collapsed": true,
        "id": "XfePRu9m7q-i",
        "outputId": "484b272c-3d49-4f0b-a361-0b7b051e980c"
      },
      "source": [
        "img_chazhi"
      ],
      "execution_count": null,
      "outputs": [
        {
          "output_type": "execute_result",
          "data": {
            "text/plain": [
              "['E:/RS_datasets/SZTAKI_AirChange_Benchmark/SZTAKI_AirChange_Benchmark/Szada/Szada_sub_png/two_png_sub\\\\0.png',\n",
              " 'E:/RS_datasets/SZTAKI_AirChange_Benchmark/SZTAKI_AirChange_Benchmark/Szada/Szada_sub_png/two_png_sub\\\\1.png',\n",
              " 'E:/RS_datasets/SZTAKI_AirChange_Benchmark/SZTAKI_AirChange_Benchmark/Szada/Szada_sub_png/two_png_sub\\\\2.png',\n",
              " 'E:/RS_datasets/SZTAKI_AirChange_Benchmark/SZTAKI_AirChange_Benchmark/Szada/Szada_sub_png/two_png_sub\\\\3.png',\n",
              " 'E:/RS_datasets/SZTAKI_AirChange_Benchmark/SZTAKI_AirChange_Benchmark/Szada/Szada_sub_png/two_png_sub\\\\4.png',\n",
              " 'E:/RS_datasets/SZTAKI_AirChange_Benchmark/SZTAKI_AirChange_Benchmark/Szada/Szada_sub_png/two_png_sub\\\\5.png',\n",
              " 'E:/RS_datasets/SZTAKI_AirChange_Benchmark/SZTAKI_AirChange_Benchmark/Szada/Szada_sub_png/two_png_sub\\\\6.png',\n",
              " 'E:/RS_datasets/SZTAKI_AirChange_Benchmark/SZTAKI_AirChange_Benchmark/Szada/Szada_sub_png/two_png_sub\\\\7.png',\n",
              " 'E:/RS_datasets/SZTAKI_AirChange_Benchmark/SZTAKI_AirChange_Benchmark/Szada/Szada_sub_png/two_png_sub\\\\8.png',\n",
              " 'E:/RS_datasets/SZTAKI_AirChange_Benchmark/SZTAKI_AirChange_Benchmark/Szada/Szada_sub_png/two_png_sub\\\\9.png',\n",
              " 'E:/RS_datasets/SZTAKI_AirChange_Benchmark/SZTAKI_AirChange_Benchmark/Szada/Szada_sub_png/two_png_sub\\\\10.png',\n",
              " 'E:/RS_datasets/SZTAKI_AirChange_Benchmark/SZTAKI_AirChange_Benchmark/Szada/Szada_sub_png/two_png_sub\\\\11.png',\n",
              " 'E:/RS_datasets/SZTAKI_AirChange_Benchmark/SZTAKI_AirChange_Benchmark/Szada/Szada_sub_png/two_png_sub\\\\12.png',\n",
              " 'E:/RS_datasets/SZTAKI_AirChange_Benchmark/SZTAKI_AirChange_Benchmark/Szada/Szada_sub_png/two_png_sub\\\\13.png',\n",
              " 'E:/RS_datasets/SZTAKI_AirChange_Benchmark/SZTAKI_AirChange_Benchmark/Szada/Szada_sub_png/two_png_sub\\\\14.png',\n",
              " 'E:/RS_datasets/SZTAKI_AirChange_Benchmark/SZTAKI_AirChange_Benchmark/Szada/Szada_sub_png/two_png_sub\\\\15.png',\n",
              " 'E:/RS_datasets/SZTAKI_AirChange_Benchmark/SZTAKI_AirChange_Benchmark/Szada/Szada_sub_png/two_png_sub\\\\16.png',\n",
              " 'E:/RS_datasets/SZTAKI_AirChange_Benchmark/SZTAKI_AirChange_Benchmark/Szada/Szada_sub_png/two_png_sub\\\\17.png',\n",
              " 'E:/RS_datasets/SZTAKI_AirChange_Benchmark/SZTAKI_AirChange_Benchmark/Szada/Szada_sub_png/two_png_sub\\\\18.png',\n",
              " 'E:/RS_datasets/SZTAKI_AirChange_Benchmark/SZTAKI_AirChange_Benchmark/Szada/Szada_sub_png/two_png_sub\\\\19.png',\n",
              " 'E:/RS_datasets/SZTAKI_AirChange_Benchmark/SZTAKI_AirChange_Benchmark/Szada/Szada_sub_png/two_png_sub\\\\20.png',\n",
              " 'E:/RS_datasets/SZTAKI_AirChange_Benchmark/SZTAKI_AirChange_Benchmark/Szada/Szada_sub_png/two_png_sub\\\\21.png',\n",
              " 'E:/RS_datasets/SZTAKI_AirChange_Benchmark/SZTAKI_AirChange_Benchmark/Szada/Szada_sub_png/two_png_sub\\\\22.png',\n",
              " 'E:/RS_datasets/SZTAKI_AirChange_Benchmark/SZTAKI_AirChange_Benchmark/Szada/Szada_sub_png/two_png_sub\\\\23.png',\n",
              " 'E:/RS_datasets/SZTAKI_AirChange_Benchmark/SZTAKI_AirChange_Benchmark/Szada/Szada_sub_png/two_png_sub\\\\24.png',\n",
              " 'E:/RS_datasets/SZTAKI_AirChange_Benchmark/SZTAKI_AirChange_Benchmark/Szada/Szada_sub_png/two_png_sub\\\\25.png',\n",
              " 'E:/RS_datasets/SZTAKI_AirChange_Benchmark/SZTAKI_AirChange_Benchmark/Szada/Szada_sub_png/two_png_sub\\\\26.png',\n",
              " 'E:/RS_datasets/SZTAKI_AirChange_Benchmark/SZTAKI_AirChange_Benchmark/Szada/Szada_sub_png/two_png_sub\\\\27.png',\n",
              " 'E:/RS_datasets/SZTAKI_AirChange_Benchmark/SZTAKI_AirChange_Benchmark/Szada/Szada_sub_png/two_png_sub\\\\28.png',\n",
              " 'E:/RS_datasets/SZTAKI_AirChange_Benchmark/SZTAKI_AirChange_Benchmark/Szada/Szada_sub_png/two_png_sub\\\\29.png',\n",
              " 'E:/RS_datasets/SZTAKI_AirChange_Benchmark/SZTAKI_AirChange_Benchmark/Szada/Szada_sub_png/two_png_sub\\\\30.png',\n",
              " 'E:/RS_datasets/SZTAKI_AirChange_Benchmark/SZTAKI_AirChange_Benchmark/Szada/Szada_sub_png/two_png_sub\\\\31.png',\n",
              " 'E:/RS_datasets/SZTAKI_AirChange_Benchmark/SZTAKI_AirChange_Benchmark/Szada/Szada_sub_png/two_png_sub\\\\32.png',\n",
              " 'E:/RS_datasets/SZTAKI_AirChange_Benchmark/SZTAKI_AirChange_Benchmark/Szada/Szada_sub_png/two_png_sub\\\\33.png',\n",
              " 'E:/RS_datasets/SZTAKI_AirChange_Benchmark/SZTAKI_AirChange_Benchmark/Szada/Szada_sub_png/two_png_sub\\\\34.png',\n",
              " 'E:/RS_datasets/SZTAKI_AirChange_Benchmark/SZTAKI_AirChange_Benchmark/Szada/Szada_sub_png/two_png_sub\\\\35.png',\n",
              " 'E:/RS_datasets/SZTAKI_AirChange_Benchmark/SZTAKI_AirChange_Benchmark/Szada/Szada_sub_png/two_png_sub\\\\36.png',\n",
              " 'E:/RS_datasets/SZTAKI_AirChange_Benchmark/SZTAKI_AirChange_Benchmark/Szada/Szada_sub_png/two_png_sub\\\\37.png',\n",
              " 'E:/RS_datasets/SZTAKI_AirChange_Benchmark/SZTAKI_AirChange_Benchmark/Szada/Szada_sub_png/two_png_sub\\\\38.png',\n",
              " 'E:/RS_datasets/SZTAKI_AirChange_Benchmark/SZTAKI_AirChange_Benchmark/Szada/Szada_sub_png/two_png_sub\\\\39.png',\n",
              " 'E:/RS_datasets/SZTAKI_AirChange_Benchmark/SZTAKI_AirChange_Benchmark/Szada/Szada_sub_png/two_png_sub\\\\40.png',\n",
              " 'E:/RS_datasets/SZTAKI_AirChange_Benchmark/SZTAKI_AirChange_Benchmark/Szada/Szada_sub_png/two_png_sub\\\\41.png']"
            ]
          },
          "metadata": {
            "tags": []
          },
          "execution_count": 7
        }
      ]
    },
    {
      "cell_type": "code",
      "metadata": {
        "id": "z1uikKhm7q-i"
      },
      "source": [
        "dataset = tf.data.Dataset.from_tensor_slices((img1_path, img2_path, label_path, img_chazhi))"
      ],
      "execution_count": null,
      "outputs": []
    },
    {
      "cell_type": "code",
      "metadata": {
        "id": "VZTi33XY7q-i"
      },
      "source": [
        "BATCH_SIZE = 1\n",
        "BUFFER_SIZE = 30\n",
        "step_per_epoch = 42//BATCH_SIZE"
      ],
      "execution_count": null,
      "outputs": []
    },
    {
      "cell_type": "code",
      "metadata": {
        "id": "CQ2SiS_z7q-j"
      },
      "source": [
        "auto = tf.data.experimental.AUTOTUNE"
      ],
      "execution_count": null,
      "outputs": []
    },
    {
      "cell_type": "code",
      "metadata": {
        "id": "6l7lyAw37q-j"
      },
      "source": [
        "dataset_train = dataset.map(compute_SENet_input, num_parallel_calls=auto)"
      ],
      "execution_count": null,
      "outputs": []
    },
    {
      "cell_type": "code",
      "metadata": {
        "id": "jCsRfTo67q-j"
      },
      "source": [
        ""
      ],
      "execution_count": null,
      "outputs": []
    },
    {
      "cell_type": "code",
      "metadata": {
        "id": "UCdh0aUh7q-j"
      },
      "source": [
        ""
      ],
      "execution_count": null,
      "outputs": []
    },
    {
      "cell_type": "code",
      "metadata": {
        "id": "3VkI5bm47q-j"
      },
      "source": [
        "def read_img(img_path):\n",
        "    \n",
        "    img = tf.io.read_file(img_path)\n",
        "    img = tf.image.decode_png(img, channels=3)\n",
        "    \n",
        "    return img\n",
        "\n",
        "def read_label(label_path):\n",
        "    \n",
        "    label = tf.io.read_file(label_path)\n",
        "    label = tf.image.decode_png(label, channels=1)\n",
        "    \n",
        "    return label\n",
        "\n",
        "def compute_SENet_input(img1_path, img2_path, label_path, img_chazhi):\n",
        "    img1 = read_img(img1_path)\n",
        "    img2 = read_img(img2_path)\n",
        "    label = read_label(label_path)\n",
        "    chazhi = read_img(img_chazhi)\n",
        "    \n",
        "    img1 = tf.cast(img1, tf.float32)/255.0 \n",
        "    img2 = tf.cast(img2, tf.float32)/255.0 \n",
        "    label = tf.cast(label, tf.float32)/255.0 \n",
        "    chazhi = tf.cast(chazhi, tf.float32)/255.0\n",
        "    \n",
        "    img_pred1 = model.predict(img1)\n",
        "    img_pred2 = model.predict(img2)\n",
        "    \n",
        "    img_FD = tf.subtract(img_pred1, img_pred2)\n",
        "    img_FD = tf.abs(img_FD)\n",
        "    \n",
        "    SENet_input_img = tf.concat([img_FD, img_chazhi], axis=-1)\n",
        "    \n",
        "    return SENet_input_img"
      ],
      "execution_count": null,
      "outputs": []
    },
    {
      "cell_type": "markdown",
      "metadata": {
        "id": "HDgM1UfI7q-k"
      },
      "source": [
        "# SENet测试 "
      ]
    },
    {
      "cell_type": "code",
      "metadata": {
        "id": "AqZ7cQec7q-k"
      },
      "source": [
        "import tensorflow as tf\n",
        "import numpy as np\n",
        "\n",
        "class Squeeze_excitation_layer(tf.keras.Model):\n",
        "    def __init__(self, filter_sq):\n",
        "        super().__init__()\n",
        "        self.filter_sq = filter_sq\n",
        "        self.avepool = tf.keras.layers.GlobalAveragePooling2D()\n",
        "        self.dense = tf.keras.layers.Dense(filter_sq)\n",
        "        self.relu = tf.keras.layers.Activation('relu')\n",
        "        self.sigmoid = tf.keras.layers.Activation('sigmoid')\n",
        "\n",
        "    def call(self, inputs):\n",
        "        squeeze = self.avepool(inputs)\n",
        "\n",
        "        excitation = self.dense(squeeze)\n",
        "        excitation = self.relu(excitation)\n",
        "        excitation = tf.keras.layers.Dense(inputs.shape[-1])(excitation)\n",
        "        excitation = self.sigmoid(excitation)\n",
        "        excitation = tf.keras.layers.Reshape((1, 1, inputs.shape[-1]))(excitation)\n",
        "\n",
        "        scale = inputs * excitation\n",
        "\n",
        "        return scale\n",
        "\n",
        "SE = Squeeze_excitation_layer(16)\n",
        "inputs = np.zeros([1, 32, 32, 32], dtype=np.float32)"
      ],
      "execution_count": null,
      "outputs": []
    },
    {
      "cell_type": "code",
      "metadata": {
        "id": "NsNeQmqQ7q-l"
      },
      "source": [
        "def SE_Net():\n",
        "    inputs = tf.keras.layers.Input(shape=(256, 256, 19))\n",
        "    \n",
        "    x = tf.keras.layers.Conv2D(10, 1, padding='same', activation='relu')(inputs)\n",
        "    x = Squeeze_excitation_layer(10)(x)\n",
        "    output = tf.keras.layers.Conv2D(2, 1, padding='same', activation='sigmoid')(x)\n",
        "    \n",
        "    return tf.keras.Model(inputs=inputs, outputs=output)"
      ],
      "execution_count": null,
      "outputs": []
    },
    {
      "cell_type": "code",
      "metadata": {
        "id": "uEIcRING7q-l"
      },
      "source": [
        "SE_Net = SE_Net()"
      ],
      "execution_count": null,
      "outputs": []
    },
    {
      "cell_type": "code",
      "metadata": {
        "id": "eKPTNaPU7q-l",
        "outputId": "d457f208-9e16-409c-c154-b6d79c42cfb6"
      },
      "source": [
        "SE_Net.summary()"
      ],
      "execution_count": null,
      "outputs": [
        {
          "output_type": "stream",
          "text": [
            "_________________________________________________________________\n",
            "Layer (type)                 Output Shape              Param #   \n",
            "=================================================================\n",
            "input_3 (InputLayer)         (None, 256, 256, 19)      0         \n",
            "_________________________________________________________________\n",
            "conv2d_21 (Conv2D)           (None, 256, 256, 10)      200       \n",
            "_________________________________________________________________\n",
            "squeeze_excitation_layer_16  (None, 256, 256, 10)      110       \n",
            "_________________________________________________________________\n",
            "conv2d_22 (Conv2D)           (None, 256, 256, 2)       22        \n",
            "=================================================================\n",
            "Total params: 332\n",
            "Trainable params: 332\n",
            "Non-trainable params: 0\n",
            "_________________________________________________________________\n"
          ],
          "name": "stdout"
        }
      ]
    },
    {
      "cell_type": "code",
      "metadata": {
        "id": "tckbzt8C7q-l"
      },
      "source": [
        "inputs = tf.convert_to_tensor(inputs)"
      ],
      "execution_count": null,
      "outputs": []
    },
    {
      "cell_type": "code",
      "metadata": {
        "id": "cPdLfDu67q-m",
        "outputId": "d2f309e9-2fd3-4a8b-b63f-1e4d322adf58"
      },
      "source": [
        "SE(inputs)"
      ],
      "execution_count": null,
      "outputs": [
        {
          "output_type": "stream",
          "text": [
            "WARNING:tensorflow:From D:\\anaconda_setup\\lib\\site-packages\\tensorflow\\python\\ops\\resource_variable_ops.py:435: colocate_with (from tensorflow.python.framework.ops) is deprecated and will be removed in a future version.\n",
            "Instructions for updating:\n",
            "Colocations handled automatically by placer.\n"
          ],
          "name": "stdout"
        },
        {
          "output_type": "execute_result",
          "data": {
            "text/plain": [
              "<tf.Tensor 'squeeze_excitation_layer_11_1/mul:0' shape=(1, 32, 32, 32) dtype=float32>"
            ]
          },
          "metadata": {
            "tags": []
          },
          "execution_count": 25
        }
      ]
    },
    {
      "cell_type": "code",
      "metadata": {
        "id": "nz_w16Cf7q-m",
        "outputId": "666de8db-8135-4e5f-d05b-4e764f2bbc68"
      },
      "source": [
        "import tensorflow as tf\n",
        "\n",
        "class SEBottleneck(tf.keras.Model):\n",
        "    def __init__(self, stride=1):\n",
        "        super().__init__()\n",
        "        self.conv1 = tf.keras.layers.Conv2D(16, kernel_size=1)\n",
        "        self.bn1 = tf.keras.layers.BatchNormalization()\n",
        "        self.conv2 = tf.keras.layers.Conv2D(16, kernel_size=3, strides=stride, padding='same')\n",
        "        self.bn2 = tf.keras.layers.BatchNormalization()\n",
        "        self.conv3 = tf.keras.layers.Conv2D(32, kernel_size=1)\n",
        "        self.bn3 = tf.keras.layers.BatchNormalization()\n",
        "        self.relu = tf.keras.layers.Activation('relu')\n",
        "        self.se = Squeeze_excitation_layer(16)\n",
        "\n",
        "    def call(self, x):\n",
        "        residual = x\n",
        "\n",
        "        out = self.conv1(x)\n",
        "        out = self.bn1(out)\n",
        "        out = self.relu(out)\n",
        "\n",
        "        out = self.conv2(out)\n",
        "        out = self.bn2(out)\n",
        "        out = self.relu(out)\n",
        "\n",
        "        out = self.conv3(out)\n",
        "        out = self.bn3(out)\n",
        "        out = self.se(out)\n",
        "\n",
        "        out += residual\n",
        "        out = self.relu(out)\n",
        "\n",
        "        return out\n",
        "\n",
        "SEB = SEBottleneck()\n",
        "inputs = np.zeros((1, 32, 32, 32), dtype=np.float32)\n",
        "inputs = tf.convert_to_tensor(inputs)\n",
        "SEB(inputs).shape\n"
      ],
      "execution_count": null,
      "outputs": [
        {
          "output_type": "execute_result",
          "data": {
            "text/plain": [
              "TensorShape([Dimension(1), Dimension(32), Dimension(32), Dimension(32)])"
            ]
          },
          "metadata": {
            "tags": []
          },
          "execution_count": 28
        }
      ]
    },
    {
      "cell_type": "code",
      "metadata": {
        "id": "h_xpJV1k7q-m",
        "outputId": "78324c61-7dc3-478f-a462-62afbf7660ae"
      },
      "source": [
        "type(inputs)"
      ],
      "execution_count": null,
      "outputs": [
        {
          "output_type": "execute_result",
          "data": {
            "text/plain": [
              "numpy.ndarray"
            ]
          },
          "metadata": {
            "tags": []
          },
          "execution_count": 15
        }
      ]
    },
    {
      "cell_type": "code",
      "metadata": {
        "id": "GJy8FGLC7q-n"
      },
      "source": [
        "mnist = tf.keras.datasets.mnist"
      ],
      "execution_count": null,
      "outputs": []
    },
    {
      "cell_type": "code",
      "metadata": {
        "id": "kBiW2ajd7q-n"
      },
      "source": [
        "(train_img, train_label) , (test_img, test_label) = mnist.load_data()"
      ],
      "execution_count": null,
      "outputs": []
    },
    {
      "cell_type": "code",
      "metadata": {
        "id": "GdcyJQix7q-n"
      },
      "source": [
        "train_img, test_img = train_img / 255.0, test_img / 255.0"
      ],
      "execution_count": null,
      "outputs": []
    },
    {
      "cell_type": "code",
      "metadata": {
        "id": "15-JGJ157q-n"
      },
      "source": [
        "train_img = np.expand_dims(train_img, -1)"
      ],
      "execution_count": null,
      "outputs": []
    },
    {
      "cell_type": "code",
      "metadata": {
        "id": "cvjKn-Lr7q-o",
        "outputId": "2a94b68a-28e2-4e95-b99e-c14c64192ae6"
      },
      "source": [
        "train_img.shape"
      ],
      "execution_count": null,
      "outputs": [
        {
          "output_type": "execute_result",
          "data": {
            "text/plain": [
              "(60000, 28, 28, 1)"
            ]
          },
          "metadata": {
            "tags": []
          },
          "execution_count": 62
        }
      ]
    },
    {
      "cell_type": "code",
      "metadata": {
        "id": "EojpOQLk7q-o",
        "outputId": "400f658d-ff3a-489b-a0f1-29fa06f7f62e"
      },
      "source": [
        "import matplotlib.pyplot as plt\n",
        "plt.imshow(train_img[0])\n",
        "# plt.imshow()"
      ],
      "execution_count": null,
      "outputs": [
        {
          "output_type": "execute_result",
          "data": {
            "text/plain": [
              "<matplotlib.image.AxesImage at 0x235881e4438>"
            ]
          },
          "metadata": {
            "tags": []
          },
          "execution_count": 63
        },
        {
          "output_type": "display_data",
          "data": {
            "image/png": "[encoded data removed]",
            "text/plain": [
              "<Figure size 432x288 with 1 Axes>"
            ]
          },
          "metadata": {
            "tags": [],
            "needs_background": "light"
          }
        }
      ]
    },
    {
      "cell_type": "code",
      "metadata": {
        "id": "pKOamHc27q-o"
      },
      "source": [
        "train_data = tf.data.Dataset.from_tensor_slices((train_img, train_label))"
      ],
      "execution_count": null,
      "outputs": []
    },
    {
      "cell_type": "code",
      "metadata": {
        "id": "GJsst1pI7q-o"
      },
      "source": [
        "test_data = tf.data.Dataset.from_tensor_slices((test_img, test_label))"
      ],
      "execution_count": null,
      "outputs": []
    },
    {
      "cell_type": "code",
      "metadata": {
        "id": "kPdlzyYx7q-p"
      },
      "source": [
        "train_data = train_data.batch(32)"
      ],
      "execution_count": null,
      "outputs": []
    },
    {
      "cell_type": "code",
      "metadata": {
        "id": "7Gy8SHOQ7q-q",
        "outputId": "01f2defe-f4fb-4ba7-bd46-66b9ea33c476"
      },
      "source": [
        "train_data.take(9)"
      ],
      "execution_count": null,
      "outputs": [
        {
          "output_type": "execute_result",
          "data": {
            "text/plain": [
              "<DatasetV1Adapter shapes: ((?, 28, 28, 1), (?,)), types: (tf.float64, tf.uint8)>"
            ]
          },
          "metadata": {
            "tags": []
          },
          "execution_count": 79
        }
      ]
    },
    {
      "cell_type": "code",
      "metadata": {
        "id": "tGfQCqj_7q-q"
      },
      "source": [
        "def model():\n",
        "    inputs = tf.keras.layers.Input(shape=(28,28,1))\n",
        "    \n",
        "    x = tf.keras.layers.Conv2D(16, 3, activation='relu')(inputs)\n",
        "    x1 = tf.keras.layers.Conv2D(32, 3, activation='relu')(x)\n",
        "    x2 = tf.keras.layers.Conv2D(64, 3, activation='relu')(x1)\n",
        "    \n",
        "    x3 = tf.keras.layers.Dense(10, activation='softmax')(x2)\n",
        "    \n",
        "    return tf.keras.Model(inputs=inputs, outputs=x3)"
      ],
      "execution_count": null,
      "outputs": []
    },
    {
      "cell_type": "code",
      "metadata": {
        "id": "jMWG9B3W7q-q"
      },
      "source": [
        "model = model()"
      ],
      "execution_count": null,
      "outputs": []
    },
    {
      "cell_type": "code",
      "metadata": {
        "id": "JGrBEops7q-r"
      },
      "source": [
        "model.compile(\n",
        "    optimizer='Adam',\n",
        "    loss='sparse_categorical_crossentropy',\n",
        "    metrics=['acc']\n",
        ")"
      ],
      "execution_count": null,
      "outputs": []
    },
    {
      "cell_type": "code",
      "metadata": {
        "id": "bzl0BX4d7q-r"
      },
      "source": [
        "epochs = 5\n",
        "steps_per_epoch = 60000//32"
      ],
      "execution_count": null,
      "outputs": []
    },
    {
      "cell_type": "code",
      "metadata": {
        "collapsed": true,
        "id": "f5qJ1_DK7q-r",
        "outputId": "6186ce16-dabc-46bd-88cd-adcde2b1c3bc"
      },
      "source": [
        "model.fit(train_data,\n",
        "          epochs=5,\n",
        "          steps_per_epoch=1870\n",
        "          )"
      ],
      "execution_count": null,
      "outputs": [
        {
          "output_type": "stream",
          "text": [
            "Epoch 1/5\n"
          ],
          "name": "stdout"
        },
        {
          "output_type": "error",
          "ename": "InvalidArgumentError",
          "evalue": "Incompatible shapes: [32] vs. [32,22,22]\n\t [[{{node metrics_2/acc/Equal}}]]\n\t [[{{node metrics_2/acc/div_no_nan}}]]",
          "traceback": [
            "\u001b[1;31m---------------------------------------------------------------------------\u001b[0m",
            "\u001b[1;31mInvalidArgumentError\u001b[0m                      Traceback (most recent call last)",
            "\u001b[1;32m<ipython-input-77-dd88833a976c>\u001b[0m in \u001b[0;36m<module>\u001b[1;34m()\u001b[0m\n\u001b[0;32m      1\u001b[0m model.fit(train_data,\n\u001b[0;32m      2\u001b[0m           \u001b[0mepochs\u001b[0m\u001b[1;33m=\u001b[0m\u001b[1;36m5\u001b[0m\u001b[1;33m,\u001b[0m\u001b[1;33m\u001b[0m\u001b[0m\n\u001b[1;32m----> 3\u001b[1;33m           \u001b[0msteps_per_epoch\u001b[0m\u001b[1;33m=\u001b[0m\u001b[1;36m1870\u001b[0m\u001b[1;33m\u001b[0m\u001b[0m\n\u001b[0m\u001b[0;32m      4\u001b[0m           )\n",
            "\u001b[1;32mD:\\anaconda_setup\\lib\\site-packages\\tensorflow\\python\\keras\\engine\\training.py\u001b[0m in \u001b[0;36mfit\u001b[1;34m(self, x, y, batch_size, epochs, verbose, callbacks, validation_split, validation_data, shuffle, class_weight, sample_weight, initial_epoch, steps_per_epoch, validation_steps, max_queue_size, workers, use_multiprocessing, **kwargs)\u001b[0m\n\u001b[0;32m    878\u001b[0m           \u001b[0minitial_epoch\u001b[0m\u001b[1;33m=\u001b[0m\u001b[0minitial_epoch\u001b[0m\u001b[1;33m,\u001b[0m\u001b[1;33m\u001b[0m\u001b[0m\n\u001b[0;32m    879\u001b[0m           \u001b[0msteps_per_epoch\u001b[0m\u001b[1;33m=\u001b[0m\u001b[0msteps_per_epoch\u001b[0m\u001b[1;33m,\u001b[0m\u001b[1;33m\u001b[0m\u001b[0m\n\u001b[1;32m--> 880\u001b[1;33m           validation_steps=validation_steps)\n\u001b[0m\u001b[0;32m    881\u001b[0m \u001b[1;33m\u001b[0m\u001b[0m\n\u001b[0;32m    882\u001b[0m   def evaluate(self,\n",
            "\u001b[1;32mD:\\anaconda_setup\\lib\\site-packages\\tensorflow\\python\\keras\\engine\\training_arrays.py\u001b[0m in \u001b[0;36mmodel_iteration\u001b[1;34m(model, inputs, targets, sample_weights, batch_size, epochs, verbose, callbacks, val_inputs, val_targets, val_sample_weights, shuffle, initial_epoch, steps_per_epoch, validation_steps, mode, validation_in_fit, **kwargs)\u001b[0m\n\u001b[0;32m    264\u001b[0m           \u001b[1;31m# `ins` can be callable in DistributionStrategy + eager case.\u001b[0m\u001b[1;33m\u001b[0m\u001b[1;33m\u001b[0m\u001b[0m\n\u001b[0;32m    265\u001b[0m           \u001b[0mactual_inputs\u001b[0m \u001b[1;33m=\u001b[0m \u001b[0mins\u001b[0m\u001b[1;33m(\u001b[0m\u001b[1;33m)\u001b[0m \u001b[1;32mif\u001b[0m \u001b[0mcallable\u001b[0m\u001b[1;33m(\u001b[0m\u001b[0mins\u001b[0m\u001b[1;33m)\u001b[0m \u001b[1;32melse\u001b[0m \u001b[0mins\u001b[0m\u001b[1;33m\u001b[0m\u001b[0m\n\u001b[1;32m--> 266\u001b[1;33m           \u001b[0mbatch_outs\u001b[0m \u001b[1;33m=\u001b[0m \u001b[0mf\u001b[0m\u001b[1;33m(\u001b[0m\u001b[0mactual_inputs\u001b[0m\u001b[1;33m)\u001b[0m\u001b[1;33m\u001b[0m\u001b[0m\n\u001b[0m\u001b[0;32m    267\u001b[0m         \u001b[1;32mexcept\u001b[0m \u001b[0merrors\u001b[0m\u001b[1;33m.\u001b[0m\u001b[0mOutOfRangeError\u001b[0m\u001b[1;33m:\u001b[0m\u001b[1;33m\u001b[0m\u001b[0m\n\u001b[0;32m    268\u001b[0m           logging.warning('Your dataset iterator ran out of data; '\n",
            "\u001b[1;32mD:\\anaconda_setup\\lib\\site-packages\\tensorflow\\python\\keras\\backend.py\u001b[0m in \u001b[0;36m__call__\u001b[1;34m(self, inputs)\u001b[0m\n\u001b[0;32m   3074\u001b[0m \u001b[1;33m\u001b[0m\u001b[0m\n\u001b[0;32m   3075\u001b[0m     fetched = self._callable_fn(*array_vals,\n\u001b[1;32m-> 3076\u001b[1;33m                                 run_metadata=self.run_metadata)\n\u001b[0m\u001b[0;32m   3077\u001b[0m     \u001b[0mself\u001b[0m\u001b[1;33m.\u001b[0m\u001b[0m_call_fetch_callbacks\u001b[0m\u001b[1;33m(\u001b[0m\u001b[0mfetched\u001b[0m\u001b[1;33m[\u001b[0m\u001b[1;33m-\u001b[0m\u001b[0mlen\u001b[0m\u001b[1;33m(\u001b[0m\u001b[0mself\u001b[0m\u001b[1;33m.\u001b[0m\u001b[0m_fetches\u001b[0m\u001b[1;33m)\u001b[0m\u001b[1;33m:\u001b[0m\u001b[1;33m]\u001b[0m\u001b[1;33m)\u001b[0m\u001b[1;33m\u001b[0m\u001b[0m\n\u001b[0;32m   3078\u001b[0m     return nest.pack_sequence_as(self._outputs_structure,\n",
            "\u001b[1;32mD:\\anaconda_setup\\lib\\site-packages\\tensorflow\\python\\client\\session.py\u001b[0m in \u001b[0;36m__call__\u001b[1;34m(self, *args, **kwargs)\u001b[0m\n\u001b[0;32m   1437\u001b[0m           ret = tf_session.TF_SessionRunCallable(\n\u001b[0;32m   1438\u001b[0m               \u001b[0mself\u001b[0m\u001b[1;33m.\u001b[0m\u001b[0m_session\u001b[0m\u001b[1;33m.\u001b[0m\u001b[0m_session\u001b[0m\u001b[1;33m,\u001b[0m \u001b[0mself\u001b[0m\u001b[1;33m.\u001b[0m\u001b[0m_handle\u001b[0m\u001b[1;33m,\u001b[0m \u001b[0margs\u001b[0m\u001b[1;33m,\u001b[0m \u001b[0mstatus\u001b[0m\u001b[1;33m,\u001b[0m\u001b[1;33m\u001b[0m\u001b[0m\n\u001b[1;32m-> 1439\u001b[1;33m               run_metadata_ptr)\n\u001b[0m\u001b[0;32m   1440\u001b[0m         \u001b[1;32mif\u001b[0m \u001b[0mrun_metadata\u001b[0m\u001b[1;33m:\u001b[0m\u001b[1;33m\u001b[0m\u001b[0m\n\u001b[0;32m   1441\u001b[0m           \u001b[0mproto_data\u001b[0m \u001b[1;33m=\u001b[0m \u001b[0mtf_session\u001b[0m\u001b[1;33m.\u001b[0m\u001b[0mTF_GetBuffer\u001b[0m\u001b[1;33m(\u001b[0m\u001b[0mrun_metadata_ptr\u001b[0m\u001b[1;33m)\u001b[0m\u001b[1;33m\u001b[0m\u001b[0m\n",
            "\u001b[1;32mD:\\anaconda_setup\\lib\\site-packages\\tensorflow\\python\\framework\\errors_impl.py\u001b[0m in \u001b[0;36m__exit__\u001b[1;34m(self, type_arg, value_arg, traceback_arg)\u001b[0m\n\u001b[0;32m    526\u001b[0m             \u001b[1;32mNone\u001b[0m\u001b[1;33m,\u001b[0m \u001b[1;32mNone\u001b[0m\u001b[1;33m,\u001b[0m\u001b[1;33m\u001b[0m\u001b[0m\n\u001b[0;32m    527\u001b[0m             \u001b[0mcompat\u001b[0m\u001b[1;33m.\u001b[0m\u001b[0mas_text\u001b[0m\u001b[1;33m(\u001b[0m\u001b[0mc_api\u001b[0m\u001b[1;33m.\u001b[0m\u001b[0mTF_Message\u001b[0m\u001b[1;33m(\u001b[0m\u001b[0mself\u001b[0m\u001b[1;33m.\u001b[0m\u001b[0mstatus\u001b[0m\u001b[1;33m.\u001b[0m\u001b[0mstatus\u001b[0m\u001b[1;33m)\u001b[0m\u001b[1;33m)\u001b[0m\u001b[1;33m,\u001b[0m\u001b[1;33m\u001b[0m\u001b[0m\n\u001b[1;32m--> 528\u001b[1;33m             c_api.TF_GetCode(self.status.status))\n\u001b[0m\u001b[0;32m    529\u001b[0m     \u001b[1;31m# Delete the underlying status object from memory otherwise it stays alive\u001b[0m\u001b[1;33m\u001b[0m\u001b[1;33m\u001b[0m\u001b[0m\n\u001b[0;32m    530\u001b[0m     \u001b[1;31m# as there is a reference to status from this from the traceback due to\u001b[0m\u001b[1;33m\u001b[0m\u001b[1;33m\u001b[0m\u001b[0m\n",
            "\u001b[1;31mInvalidArgumentError\u001b[0m: Incompatible shapes: [32] vs. [32,22,22]\n\t [[{{node metrics_2/acc/Equal}}]]\n\t [[{{node metrics_2/acc/div_no_nan}}]]"
          ]
        }
      ]
    },
    {
      "cell_type": "code",
      "metadata": {
        "id": "JOXnVJsL7q-s"
      },
      "source": [
        "import glob"
      ],
      "execution_count": null,
      "outputs": []
    },
    {
      "cell_type": "code",
      "metadata": {
        "id": "8gycuwJ47q-t"
      },
      "source": [
        "img1_path = glob.glob(\"E:/RS_datasets/SZTAKI_AirChange_Benchmark/SZTAKI_AirChange_Benchmark/Tiszadob/Tiszadob_sub_png\\im_one/*.png\")"
      ],
      "execution_count": null,
      "outputs": []
    },
    {
      "cell_type": "code",
      "metadata": {
        "collapsed": true,
        "id": "Gz6q3Cgi7q-t",
        "outputId": "4cc8628a-d57f-4aff-a147-55132b6ed45b"
      },
      "source": [
        "img1_path"
      ],
      "execution_count": null,
      "outputs": [
        {
          "output_type": "execute_result",
          "data": {
            "text/plain": [
              "['E:/RS_datasets/SZTAKI_AirChange_Benchmark/SZTAKI_AirChange_Benchmark/Tiszadob/Tiszadob_sub_png\\\\im_one\\\\0.png',\n",
              " 'E:/RS_datasets/SZTAKI_AirChange_Benchmark/SZTAKI_AirChange_Benchmark/Tiszadob/Tiszadob_sub_png\\\\im_one\\\\1.png',\n",
              " 'E:/RS_datasets/SZTAKI_AirChange_Benchmark/SZTAKI_AirChange_Benchmark/Tiszadob/Tiszadob_sub_png\\\\im_one\\\\10.png',\n",
              " 'E:/RS_datasets/SZTAKI_AirChange_Benchmark/SZTAKI_AirChange_Benchmark/Tiszadob/Tiszadob_sub_png\\\\im_one\\\\11.png',\n",
              " 'E:/RS_datasets/SZTAKI_AirChange_Benchmark/SZTAKI_AirChange_Benchmark/Tiszadob/Tiszadob_sub_png\\\\im_one\\\\12.png',\n",
              " 'E:/RS_datasets/SZTAKI_AirChange_Benchmark/SZTAKI_AirChange_Benchmark/Tiszadob/Tiszadob_sub_png\\\\im_one\\\\13.png',\n",
              " 'E:/RS_datasets/SZTAKI_AirChange_Benchmark/SZTAKI_AirChange_Benchmark/Tiszadob/Tiszadob_sub_png\\\\im_one\\\\14.png',\n",
              " 'E:/RS_datasets/SZTAKI_AirChange_Benchmark/SZTAKI_AirChange_Benchmark/Tiszadob/Tiszadob_sub_png\\\\im_one\\\\15.png',\n",
              " 'E:/RS_datasets/SZTAKI_AirChange_Benchmark/SZTAKI_AirChange_Benchmark/Tiszadob/Tiszadob_sub_png\\\\im_one\\\\16.png',\n",
              " 'E:/RS_datasets/SZTAKI_AirChange_Benchmark/SZTAKI_AirChange_Benchmark/Tiszadob/Tiszadob_sub_png\\\\im_one\\\\17.png',\n",
              " 'E:/RS_datasets/SZTAKI_AirChange_Benchmark/SZTAKI_AirChange_Benchmark/Tiszadob/Tiszadob_sub_png\\\\im_one\\\\18.png',\n",
              " 'E:/RS_datasets/SZTAKI_AirChange_Benchmark/SZTAKI_AirChange_Benchmark/Tiszadob/Tiszadob_sub_png\\\\im_one\\\\19.png',\n",
              " 'E:/RS_datasets/SZTAKI_AirChange_Benchmark/SZTAKI_AirChange_Benchmark/Tiszadob/Tiszadob_sub_png\\\\im_one\\\\2.png',\n",
              " 'E:/RS_datasets/SZTAKI_AirChange_Benchmark/SZTAKI_AirChange_Benchmark/Tiszadob/Tiszadob_sub_png\\\\im_one\\\\20.png',\n",
              " 'E:/RS_datasets/SZTAKI_AirChange_Benchmark/SZTAKI_AirChange_Benchmark/Tiszadob/Tiszadob_sub_png\\\\im_one\\\\21.png',\n",
              " 'E:/RS_datasets/SZTAKI_AirChange_Benchmark/SZTAKI_AirChange_Benchmark/Tiszadob/Tiszadob_sub_png\\\\im_one\\\\22.png',\n",
              " 'E:/RS_datasets/SZTAKI_AirChange_Benchmark/SZTAKI_AirChange_Benchmark/Tiszadob/Tiszadob_sub_png\\\\im_one\\\\23.png',\n",
              " 'E:/RS_datasets/SZTAKI_AirChange_Benchmark/SZTAKI_AirChange_Benchmark/Tiszadob/Tiszadob_sub_png\\\\im_one\\\\24.png',\n",
              " 'E:/RS_datasets/SZTAKI_AirChange_Benchmark/SZTAKI_AirChange_Benchmark/Tiszadob/Tiszadob_sub_png\\\\im_one\\\\25.png',\n",
              " 'E:/RS_datasets/SZTAKI_AirChange_Benchmark/SZTAKI_AirChange_Benchmark/Tiszadob/Tiszadob_sub_png\\\\im_one\\\\26.png',\n",
              " 'E:/RS_datasets/SZTAKI_AirChange_Benchmark/SZTAKI_AirChange_Benchmark/Tiszadob/Tiszadob_sub_png\\\\im_one\\\\27.png',\n",
              " 'E:/RS_datasets/SZTAKI_AirChange_Benchmark/SZTAKI_AirChange_Benchmark/Tiszadob/Tiszadob_sub_png\\\\im_one\\\\28.png',\n",
              " 'E:/RS_datasets/SZTAKI_AirChange_Benchmark/SZTAKI_AirChange_Benchmark/Tiszadob/Tiszadob_sub_png\\\\im_one\\\\29.png',\n",
              " 'E:/RS_datasets/SZTAKI_AirChange_Benchmark/SZTAKI_AirChange_Benchmark/Tiszadob/Tiszadob_sub_png\\\\im_one\\\\3.png',\n",
              " 'E:/RS_datasets/SZTAKI_AirChange_Benchmark/SZTAKI_AirChange_Benchmark/Tiszadob/Tiszadob_sub_png\\\\im_one\\\\4.png',\n",
              " 'E:/RS_datasets/SZTAKI_AirChange_Benchmark/SZTAKI_AirChange_Benchmark/Tiszadob/Tiszadob_sub_png\\\\im_one\\\\5.png',\n",
              " 'E:/RS_datasets/SZTAKI_AirChange_Benchmark/SZTAKI_AirChange_Benchmark/Tiszadob/Tiszadob_sub_png\\\\im_one\\\\6.png',\n",
              " 'E:/RS_datasets/SZTAKI_AirChange_Benchmark/SZTAKI_AirChange_Benchmark/Tiszadob/Tiszadob_sub_png\\\\im_one\\\\7.png',\n",
              " 'E:/RS_datasets/SZTAKI_AirChange_Benchmark/SZTAKI_AirChange_Benchmark/Tiszadob/Tiszadob_sub_png\\\\im_one\\\\8.png',\n",
              " 'E:/RS_datasets/SZTAKI_AirChange_Benchmark/SZTAKI_AirChange_Benchmark/Tiszadob/Tiszadob_sub_png\\\\im_one\\\\9.png']"
            ]
          },
          "metadata": {
            "tags": []
          },
          "execution_count": 5
        }
      ]
    },
    {
      "cell_type": "code",
      "metadata": {
        "id": "l8JwL1mA7q-u"
      },
      "source": [
        "img2_path = glob.glob(\"E:/RS_datasets/SZTAKI_AirChange_Benchmark/SZTAKI_AirChange_Benchmark/Tiszadob/Tiszadob_sub_png\\im_two/*.png\")"
      ],
      "execution_count": null,
      "outputs": []
    },
    {
      "cell_type": "code",
      "metadata": {
        "collapsed": true,
        "id": "XJtI_-Z97q-u",
        "outputId": "c1fb0491-1a41-475b-e3e6-1f2f7663deb8"
      },
      "source": [
        "img2_path"
      ],
      "execution_count": null,
      "outputs": [
        {
          "output_type": "execute_result",
          "data": {
            "text/plain": [
              "['E:/RS_datasets/SZTAKI_AirChange_Benchmark/SZTAKI_AirChange_Benchmark/Tiszadob/Tiszadob_sub_png\\\\im_two\\\\0.png',\n",
              " 'E:/RS_datasets/SZTAKI_AirChange_Benchmark/SZTAKI_AirChange_Benchmark/Tiszadob/Tiszadob_sub_png\\\\im_two\\\\1.png',\n",
              " 'E:/RS_datasets/SZTAKI_AirChange_Benchmark/SZTAKI_AirChange_Benchmark/Tiszadob/Tiszadob_sub_png\\\\im_two\\\\10.png',\n",
              " 'E:/RS_datasets/SZTAKI_AirChange_Benchmark/SZTAKI_AirChange_Benchmark/Tiszadob/Tiszadob_sub_png\\\\im_two\\\\11.png',\n",
              " 'E:/RS_datasets/SZTAKI_AirChange_Benchmark/SZTAKI_AirChange_Benchmark/Tiszadob/Tiszadob_sub_png\\\\im_two\\\\12.png',\n",
              " 'E:/RS_datasets/SZTAKI_AirChange_Benchmark/SZTAKI_AirChange_Benchmark/Tiszadob/Tiszadob_sub_png\\\\im_two\\\\13.png',\n",
              " 'E:/RS_datasets/SZTAKI_AirChange_Benchmark/SZTAKI_AirChange_Benchmark/Tiszadob/Tiszadob_sub_png\\\\im_two\\\\14.png',\n",
              " 'E:/RS_datasets/SZTAKI_AirChange_Benchmark/SZTAKI_AirChange_Benchmark/Tiszadob/Tiszadob_sub_png\\\\im_two\\\\15.png',\n",
              " 'E:/RS_datasets/SZTAKI_AirChange_Benchmark/SZTAKI_AirChange_Benchmark/Tiszadob/Tiszadob_sub_png\\\\im_two\\\\16.png',\n",
              " 'E:/RS_datasets/SZTAKI_AirChange_Benchmark/SZTAKI_AirChange_Benchmark/Tiszadob/Tiszadob_sub_png\\\\im_two\\\\17.png',\n",
              " 'E:/RS_datasets/SZTAKI_AirChange_Benchmark/SZTAKI_AirChange_Benchmark/Tiszadob/Tiszadob_sub_png\\\\im_two\\\\18.png',\n",
              " 'E:/RS_datasets/SZTAKI_AirChange_Benchmark/SZTAKI_AirChange_Benchmark/Tiszadob/Tiszadob_sub_png\\\\im_two\\\\19.png',\n",
              " 'E:/RS_datasets/SZTAKI_AirChange_Benchmark/SZTAKI_AirChange_Benchmark/Tiszadob/Tiszadob_sub_png\\\\im_two\\\\2.png',\n",
              " 'E:/RS_datasets/SZTAKI_AirChange_Benchmark/SZTAKI_AirChange_Benchmark/Tiszadob/Tiszadob_sub_png\\\\im_two\\\\20.png',\n",
              " 'E:/RS_datasets/SZTAKI_AirChange_Benchmark/SZTAKI_AirChange_Benchmark/Tiszadob/Tiszadob_sub_png\\\\im_two\\\\21.png',\n",
              " 'E:/RS_datasets/SZTAKI_AirChange_Benchmark/SZTAKI_AirChange_Benchmark/Tiszadob/Tiszadob_sub_png\\\\im_two\\\\22.png',\n",
              " 'E:/RS_datasets/SZTAKI_AirChange_Benchmark/SZTAKI_AirChange_Benchmark/Tiszadob/Tiszadob_sub_png\\\\im_two\\\\23.png',\n",
              " 'E:/RS_datasets/SZTAKI_AirChange_Benchmark/SZTAKI_AirChange_Benchmark/Tiszadob/Tiszadob_sub_png\\\\im_two\\\\24.png',\n",
              " 'E:/RS_datasets/SZTAKI_AirChange_Benchmark/SZTAKI_AirChange_Benchmark/Tiszadob/Tiszadob_sub_png\\\\im_two\\\\25.png',\n",
              " 'E:/RS_datasets/SZTAKI_AirChange_Benchmark/SZTAKI_AirChange_Benchmark/Tiszadob/Tiszadob_sub_png\\\\im_two\\\\26.png',\n",
              " 'E:/RS_datasets/SZTAKI_AirChange_Benchmark/SZTAKI_AirChange_Benchmark/Tiszadob/Tiszadob_sub_png\\\\im_two\\\\27.png',\n",
              " 'E:/RS_datasets/SZTAKI_AirChange_Benchmark/SZTAKI_AirChange_Benchmark/Tiszadob/Tiszadob_sub_png\\\\im_two\\\\28.png',\n",
              " 'E:/RS_datasets/SZTAKI_AirChange_Benchmark/SZTAKI_AirChange_Benchmark/Tiszadob/Tiszadob_sub_png\\\\im_two\\\\29.png',\n",
              " 'E:/RS_datasets/SZTAKI_AirChange_Benchmark/SZTAKI_AirChange_Benchmark/Tiszadob/Tiszadob_sub_png\\\\im_two\\\\3.png',\n",
              " 'E:/RS_datasets/SZTAKI_AirChange_Benchmark/SZTAKI_AirChange_Benchmark/Tiszadob/Tiszadob_sub_png\\\\im_two\\\\4.png',\n",
              " 'E:/RS_datasets/SZTAKI_AirChange_Benchmark/SZTAKI_AirChange_Benchmark/Tiszadob/Tiszadob_sub_png\\\\im_two\\\\5.png',\n",
              " 'E:/RS_datasets/SZTAKI_AirChange_Benchmark/SZTAKI_AirChange_Benchmark/Tiszadob/Tiszadob_sub_png\\\\im_two\\\\6.png',\n",
              " 'E:/RS_datasets/SZTAKI_AirChange_Benchmark/SZTAKI_AirChange_Benchmark/Tiszadob/Tiszadob_sub_png\\\\im_two\\\\7.png',\n",
              " 'E:/RS_datasets/SZTAKI_AirChange_Benchmark/SZTAKI_AirChange_Benchmark/Tiszadob/Tiszadob_sub_png\\\\im_two\\\\8.png',\n",
              " 'E:/RS_datasets/SZTAKI_AirChange_Benchmark/SZTAKI_AirChange_Benchmark/Tiszadob/Tiszadob_sub_png\\\\im_two\\\\9.png']"
            ]
          },
          "metadata": {
            "tags": []
          },
          "execution_count": 7
        }
      ]
    },
    {
      "cell_type": "code",
      "metadata": {
        "id": "fFZiuglu7q-u"
      },
      "source": [
        "import re\n",
        "img1_path = sorted(img1_path,key = lambda i:int(re.search(r'(\\d+)',i).group()))"
      ],
      "execution_count": null,
      "outputs": []
    },
    {
      "cell_type": "code",
      "metadata": {
        "collapsed": true,
        "id": "q675fJJF7q-u",
        "outputId": "1e2584ba-8361-444e-a9e7-c56da692b2da"
      },
      "source": [
        "img1_path"
      ],
      "execution_count": null,
      "outputs": [
        {
          "output_type": "execute_result",
          "data": {
            "text/plain": [
              "['E:/RS_datasets/SZTAKI_AirChange_Benchmark/SZTAKI_AirChange_Benchmark/Tiszadob/Tiszadob_sub_png\\\\im_one\\\\0.png',\n",
              " 'E:/RS_datasets/SZTAKI_AirChange_Benchmark/SZTAKI_AirChange_Benchmark/Tiszadob/Tiszadob_sub_png\\\\im_one\\\\1.png',\n",
              " 'E:/RS_datasets/SZTAKI_AirChange_Benchmark/SZTAKI_AirChange_Benchmark/Tiszadob/Tiszadob_sub_png\\\\im_one\\\\2.png',\n",
              " 'E:/RS_datasets/SZTAKI_AirChange_Benchmark/SZTAKI_AirChange_Benchmark/Tiszadob/Tiszadob_sub_png\\\\im_one\\\\3.png',\n",
              " 'E:/RS_datasets/SZTAKI_AirChange_Benchmark/SZTAKI_AirChange_Benchmark/Tiszadob/Tiszadob_sub_png\\\\im_one\\\\4.png',\n",
              " 'E:/RS_datasets/SZTAKI_AirChange_Benchmark/SZTAKI_AirChange_Benchmark/Tiszadob/Tiszadob_sub_png\\\\im_one\\\\5.png',\n",
              " 'E:/RS_datasets/SZTAKI_AirChange_Benchmark/SZTAKI_AirChange_Benchmark/Tiszadob/Tiszadob_sub_png\\\\im_one\\\\6.png',\n",
              " 'E:/RS_datasets/SZTAKI_AirChange_Benchmark/SZTAKI_AirChange_Benchmark/Tiszadob/Tiszadob_sub_png\\\\im_one\\\\7.png',\n",
              " 'E:/RS_datasets/SZTAKI_AirChange_Benchmark/SZTAKI_AirChange_Benchmark/Tiszadob/Tiszadob_sub_png\\\\im_one\\\\8.png',\n",
              " 'E:/RS_datasets/SZTAKI_AirChange_Benchmark/SZTAKI_AirChange_Benchmark/Tiszadob/Tiszadob_sub_png\\\\im_one\\\\9.png',\n",
              " 'E:/RS_datasets/SZTAKI_AirChange_Benchmark/SZTAKI_AirChange_Benchmark/Tiszadob/Tiszadob_sub_png\\\\im_one\\\\10.png',\n",
              " 'E:/RS_datasets/SZTAKI_AirChange_Benchmark/SZTAKI_AirChange_Benchmark/Tiszadob/Tiszadob_sub_png\\\\im_one\\\\11.png',\n",
              " 'E:/RS_datasets/SZTAKI_AirChange_Benchmark/SZTAKI_AirChange_Benchmark/Tiszadob/Tiszadob_sub_png\\\\im_one\\\\12.png',\n",
              " 'E:/RS_datasets/SZTAKI_AirChange_Benchmark/SZTAKI_AirChange_Benchmark/Tiszadob/Tiszadob_sub_png\\\\im_one\\\\13.png',\n",
              " 'E:/RS_datasets/SZTAKI_AirChange_Benchmark/SZTAKI_AirChange_Benchmark/Tiszadob/Tiszadob_sub_png\\\\im_one\\\\14.png',\n",
              " 'E:/RS_datasets/SZTAKI_AirChange_Benchmark/SZTAKI_AirChange_Benchmark/Tiszadob/Tiszadob_sub_png\\\\im_one\\\\15.png',\n",
              " 'E:/RS_datasets/SZTAKI_AirChange_Benchmark/SZTAKI_AirChange_Benchmark/Tiszadob/Tiszadob_sub_png\\\\im_one\\\\16.png',\n",
              " 'E:/RS_datasets/SZTAKI_AirChange_Benchmark/SZTAKI_AirChange_Benchmark/Tiszadob/Tiszadob_sub_png\\\\im_one\\\\17.png',\n",
              " 'E:/RS_datasets/SZTAKI_AirChange_Benchmark/SZTAKI_AirChange_Benchmark/Tiszadob/Tiszadob_sub_png\\\\im_one\\\\18.png',\n",
              " 'E:/RS_datasets/SZTAKI_AirChange_Benchmark/SZTAKI_AirChange_Benchmark/Tiszadob/Tiszadob_sub_png\\\\im_one\\\\19.png',\n",
              " 'E:/RS_datasets/SZTAKI_AirChange_Benchmark/SZTAKI_AirChange_Benchmark/Tiszadob/Tiszadob_sub_png\\\\im_one\\\\20.png',\n",
              " 'E:/RS_datasets/SZTAKI_AirChange_Benchmark/SZTAKI_AirChange_Benchmark/Tiszadob/Tiszadob_sub_png\\\\im_one\\\\21.png',\n",
              " 'E:/RS_datasets/SZTAKI_AirChange_Benchmark/SZTAKI_AirChange_Benchmark/Tiszadob/Tiszadob_sub_png\\\\im_one\\\\22.png',\n",
              " 'E:/RS_datasets/SZTAKI_AirChange_Benchmark/SZTAKI_AirChange_Benchmark/Tiszadob/Tiszadob_sub_png\\\\im_one\\\\23.png',\n",
              " 'E:/RS_datasets/SZTAKI_AirChange_Benchmark/SZTAKI_AirChange_Benchmark/Tiszadob/Tiszadob_sub_png\\\\im_one\\\\24.png',\n",
              " 'E:/RS_datasets/SZTAKI_AirChange_Benchmark/SZTAKI_AirChange_Benchmark/Tiszadob/Tiszadob_sub_png\\\\im_one\\\\25.png',\n",
              " 'E:/RS_datasets/SZTAKI_AirChange_Benchmark/SZTAKI_AirChange_Benchmark/Tiszadob/Tiszadob_sub_png\\\\im_one\\\\26.png',\n",
              " 'E:/RS_datasets/SZTAKI_AirChange_Benchmark/SZTAKI_AirChange_Benchmark/Tiszadob/Tiszadob_sub_png\\\\im_one\\\\27.png',\n",
              " 'E:/RS_datasets/SZTAKI_AirChange_Benchmark/SZTAKI_AirChange_Benchmark/Tiszadob/Tiszadob_sub_png\\\\im_one\\\\28.png',\n",
              " 'E:/RS_datasets/SZTAKI_AirChange_Benchmark/SZTAKI_AirChange_Benchmark/Tiszadob/Tiszadob_sub_png\\\\im_one\\\\29.png']"
            ]
          },
          "metadata": {
            "tags": []
          },
          "execution_count": 9
        }
      ]
    },
    {
      "cell_type": "code",
      "metadata": {
        "id": "ypH60m4-7q-v"
      },
      "source": [
        "img2_path = sorted(img2_path,key = lambda i:int(re.search(r'(\\d+)',i).group()))"
      ],
      "execution_count": null,
      "outputs": []
    },
    {
      "cell_type": "code",
      "metadata": {
        "collapsed": true,
        "id": "RHunXPCn7q-v",
        "outputId": "1ca7492f-c21a-40c5-94c5-4a4e78815d74"
      },
      "source": [
        "img2_path"
      ],
      "execution_count": null,
      "outputs": [
        {
          "output_type": "execute_result",
          "data": {
            "text/plain": [
              "['E:/RS_datasets/SZTAKI_AirChange_Benchmark/SZTAKI_AirChange_Benchmark/Tiszadob/Tiszadob_sub_png\\\\im_two\\\\0.png',\n",
              " 'E:/RS_datasets/SZTAKI_AirChange_Benchmark/SZTAKI_AirChange_Benchmark/Tiszadob/Tiszadob_sub_png\\\\im_two\\\\1.png',\n",
              " 'E:/RS_datasets/SZTAKI_AirChange_Benchmark/SZTAKI_AirChange_Benchmark/Tiszadob/Tiszadob_sub_png\\\\im_two\\\\2.png',\n",
              " 'E:/RS_datasets/SZTAKI_AirChange_Benchmark/SZTAKI_AirChange_Benchmark/Tiszadob/Tiszadob_sub_png\\\\im_two\\\\3.png',\n",
              " 'E:/RS_datasets/SZTAKI_AirChange_Benchmark/SZTAKI_AirChange_Benchmark/Tiszadob/Tiszadob_sub_png\\\\im_two\\\\4.png',\n",
              " 'E:/RS_datasets/SZTAKI_AirChange_Benchmark/SZTAKI_AirChange_Benchmark/Tiszadob/Tiszadob_sub_png\\\\im_two\\\\5.png',\n",
              " 'E:/RS_datasets/SZTAKI_AirChange_Benchmark/SZTAKI_AirChange_Benchmark/Tiszadob/Tiszadob_sub_png\\\\im_two\\\\6.png',\n",
              " 'E:/RS_datasets/SZTAKI_AirChange_Benchmark/SZTAKI_AirChange_Benchmark/Tiszadob/Tiszadob_sub_png\\\\im_two\\\\7.png',\n",
              " 'E:/RS_datasets/SZTAKI_AirChange_Benchmark/SZTAKI_AirChange_Benchmark/Tiszadob/Tiszadob_sub_png\\\\im_two\\\\8.png',\n",
              " 'E:/RS_datasets/SZTAKI_AirChange_Benchmark/SZTAKI_AirChange_Benchmark/Tiszadob/Tiszadob_sub_png\\\\im_two\\\\9.png',\n",
              " 'E:/RS_datasets/SZTAKI_AirChange_Benchmark/SZTAKI_AirChange_Benchmark/Tiszadob/Tiszadob_sub_png\\\\im_two\\\\10.png',\n",
              " 'E:/RS_datasets/SZTAKI_AirChange_Benchmark/SZTAKI_AirChange_Benchmark/Tiszadob/Tiszadob_sub_png\\\\im_two\\\\11.png',\n",
              " 'E:/RS_datasets/SZTAKI_AirChange_Benchmark/SZTAKI_AirChange_Benchmark/Tiszadob/Tiszadob_sub_png\\\\im_two\\\\12.png',\n",
              " 'E:/RS_datasets/SZTAKI_AirChange_Benchmark/SZTAKI_AirChange_Benchmark/Tiszadob/Tiszadob_sub_png\\\\im_two\\\\13.png',\n",
              " 'E:/RS_datasets/SZTAKI_AirChange_Benchmark/SZTAKI_AirChange_Benchmark/Tiszadob/Tiszadob_sub_png\\\\im_two\\\\14.png',\n",
              " 'E:/RS_datasets/SZTAKI_AirChange_Benchmark/SZTAKI_AirChange_Benchmark/Tiszadob/Tiszadob_sub_png\\\\im_two\\\\15.png',\n",
              " 'E:/RS_datasets/SZTAKI_AirChange_Benchmark/SZTAKI_AirChange_Benchmark/Tiszadob/Tiszadob_sub_png\\\\im_two\\\\16.png',\n",
              " 'E:/RS_datasets/SZTAKI_AirChange_Benchmark/SZTAKI_AirChange_Benchmark/Tiszadob/Tiszadob_sub_png\\\\im_two\\\\17.png',\n",
              " 'E:/RS_datasets/SZTAKI_AirChange_Benchmark/SZTAKI_AirChange_Benchmark/Tiszadob/Tiszadob_sub_png\\\\im_two\\\\18.png',\n",
              " 'E:/RS_datasets/SZTAKI_AirChange_Benchmark/SZTAKI_AirChange_Benchmark/Tiszadob/Tiszadob_sub_png\\\\im_two\\\\19.png',\n",
              " 'E:/RS_datasets/SZTAKI_AirChange_Benchmark/SZTAKI_AirChange_Benchmark/Tiszadob/Tiszadob_sub_png\\\\im_two\\\\20.png',\n",
              " 'E:/RS_datasets/SZTAKI_AirChange_Benchmark/SZTAKI_AirChange_Benchmark/Tiszadob/Tiszadob_sub_png\\\\im_two\\\\21.png',\n",
              " 'E:/RS_datasets/SZTAKI_AirChange_Benchmark/SZTAKI_AirChange_Benchmark/Tiszadob/Tiszadob_sub_png\\\\im_two\\\\22.png',\n",
              " 'E:/RS_datasets/SZTAKI_AirChange_Benchmark/SZTAKI_AirChange_Benchmark/Tiszadob/Tiszadob_sub_png\\\\im_two\\\\23.png',\n",
              " 'E:/RS_datasets/SZTAKI_AirChange_Benchmark/SZTAKI_AirChange_Benchmark/Tiszadob/Tiszadob_sub_png\\\\im_two\\\\24.png',\n",
              " 'E:/RS_datasets/SZTAKI_AirChange_Benchmark/SZTAKI_AirChange_Benchmark/Tiszadob/Tiszadob_sub_png\\\\im_two\\\\25.png',\n",
              " 'E:/RS_datasets/SZTAKI_AirChange_Benchmark/SZTAKI_AirChange_Benchmark/Tiszadob/Tiszadob_sub_png\\\\im_two\\\\26.png',\n",
              " 'E:/RS_datasets/SZTAKI_AirChange_Benchmark/SZTAKI_AirChange_Benchmark/Tiszadob/Tiszadob_sub_png\\\\im_two\\\\27.png',\n",
              " 'E:/RS_datasets/SZTAKI_AirChange_Benchmark/SZTAKI_AirChange_Benchmark/Tiszadob/Tiszadob_sub_png\\\\im_two\\\\28.png',\n",
              " 'E:/RS_datasets/SZTAKI_AirChange_Benchmark/SZTAKI_AirChange_Benchmark/Tiszadob/Tiszadob_sub_png\\\\im_two\\\\29.png']"
            ]
          },
          "metadata": {
            "tags": []
          },
          "execution_count": 11
        }
      ]
    },
    {
      "cell_type": "code",
      "metadata": {
        "id": "jXOwmDZb7q-v"
      },
      "source": [
        "def read_img(img_path):\n",
        "    img = plt.imread(img_path)\n",
        "    img = img[:,:,:3]\n",
        "    return img"
      ],
      "execution_count": null,
      "outputs": []
    },
    {
      "cell_type": "code",
      "metadata": {
        "id": "49pSeYAU7q-v"
      },
      "source": [
        "img1 = read_img(\"E:/RS_datasets/SZTAKI_AirChange_Benchmark/SZTAKI_AirChange_Benchmark/Szada/Szada_sub_png/im_two/2.png\")"
      ],
      "execution_count": null,
      "outputs": []
    },
    {
      "cell_type": "code",
      "metadata": {
        "id": "4Sjhx9OQ7q-v"
      },
      "source": [
        "img2 = read_img(\"E:/RS_datasets/SZTAKI_AirChange_Benchmark/SZTAKI_AirChange_Benchmark/Szada/Szada_sub_png/im_one/2.png\")"
      ],
      "execution_count": null,
      "outputs": []
    },
    {
      "cell_type": "code",
      "metadata": {
        "id": "Psxi8YMi7q-w"
      },
      "source": [
        "img_2_new = np.abs(img1-img2)"
      ],
      "execution_count": null,
      "outputs": []
    },
    {
      "cell_type": "code",
      "metadata": {
        "id": "frWTAsQz7q-w"
      },
      "source": [
        "import matplotlib\n",
        "matplotlib.image.imsave(\"E:/RS_datasets/SZTAKI_AirChange_Benchmark/SZTAKI_AirChange_Benchmark/Szada/Szada_sub_png/two_png_sub/\"+str(555)+\".png\", img_2_new)"
      ],
      "execution_count": null,
      "outputs": []
    },
    {
      "cell_type": "code",
      "metadata": {
        "id": "glncZdJ47q-w"
      },
      "source": [
        "img_555 = plt.imread(\"E:/RS_datasets/SZTAKI_AirChange_Benchmark/SZTAKI_AirChange_Benchmark/Szada/Szada_sub_png/two_png_sub/555.png\")"
      ],
      "execution_count": null,
      "outputs": []
    },
    {
      "cell_type": "code",
      "metadata": {
        "collapsed": true,
        "id": "RVwcsamT7q-w",
        "outputId": "9fd03f3a-9377-40ef-ca43-62998ed908e6"
      },
      "source": [
        "img_555[:10]"
      ],
      "execution_count": null,
      "outputs": [
        {
          "output_type": "execute_result",
          "data": {
            "text/plain": [
              "array([[[0.5372549 , 0.34509805, 0.34117648, 1.        ],\n",
              "        [0.4745098 , 0.2901961 , 0.27058825, 1.        ],\n",
              "        [0.12941177, 0.10588235, 0.14117648, 1.        ],\n",
              "        ...,\n",
              "        [0.10980392, 0.        , 0.03921569, 1.        ],\n",
              "        [0.10980392, 0.01568628, 0.05882353, 1.        ],\n",
              "        [0.04705882, 0.09019608, 0.08627451, 1.        ]],\n",
              "\n",
              "       [[0.33333334, 0.14901961, 0.15686275, 1.        ],\n",
              "        [0.30588236, 0.15686275, 0.1764706 , 1.        ],\n",
              "        [0.13725491, 0.01176471, 0.01568628, 1.        ],\n",
              "        ...,\n",
              "        [0.13725491, 0.01568628, 0.01960784, 1.        ],\n",
              "        [0.07058824, 0.09019608, 0.09411765, 1.        ],\n",
              "        [0.03137255, 0.1254902 , 0.10588235, 1.        ]],\n",
              "\n",
              "       [[0.15686275, 0.16078432, 0.1764706 , 1.        ],\n",
              "        [0.06666667, 0.00392157, 0.04705882, 1.        ],\n",
              "        [0.02745098, 0.04705882, 0.07058824, 1.        ],\n",
              "        ...,\n",
              "        [0.07450981, 0.07058824, 0.05882353, 1.        ],\n",
              "        [0.08235294, 0.0627451 , 0.08627451, 1.        ],\n",
              "        [0.0627451 , 0.08627451, 0.09803922, 1.        ]],\n",
              "\n",
              "       ...,\n",
              "\n",
              "       [[0.37254903, 0.31764707, 0.34509805, 1.        ],\n",
              "        [0.2784314 , 0.23137255, 0.22352941, 1.        ],\n",
              "        [0.16470589, 0.16470589, 0.14117648, 1.        ],\n",
              "        ...,\n",
              "        [0.09803922, 0.23137255, 0.1882353 , 1.        ],\n",
              "        [0.01176471, 0.14117648, 0.12941177, 1.        ],\n",
              "        [0.14117648, 0.02745098, 0.01568628, 1.        ]],\n",
              "\n",
              "       [[0.26666668, 0.26666668, 0.27450982, 1.        ],\n",
              "        [0.31764707, 0.22745098, 0.23137255, 1.        ],\n",
              "        [0.21568628, 0.18431373, 0.1882353 , 1.        ],\n",
              "        ...,\n",
              "        [0.03529412, 0.10588235, 0.08235294, 1.        ],\n",
              "        [0.0627451 , 0.06666667, 0.06666667, 1.        ],\n",
              "        [0.18431373, 0.01568628, 0.00392157, 1.        ]],\n",
              "\n",
              "       [[0.27450982, 0.23137255, 0.1882353 , 1.        ],\n",
              "        [0.13725491, 0.12941177, 0.14117648, 1.        ],\n",
              "        [0.15686275, 0.15294118, 0.16862746, 1.        ],\n",
              "        ...,\n",
              "        [0.12156863, 0.01960784, 0.04705882, 1.        ],\n",
              "        [0.05882353, 0.07058824, 0.07058824, 1.        ],\n",
              "        [0.1254902 , 0.03921569, 0.05882353, 1.        ]]], dtype=float32)"
            ]
          },
          "metadata": {
            "tags": []
          },
          "execution_count": 85
        }
      ]
    },
    {
      "cell_type": "code",
      "metadata": {
        "collapsed": true,
        "id": "PsYBRf8k7q-w",
        "outputId": "ccde9571-2b24-4d27-9caf-15871fd0ae11"
      },
      "source": [
        "img_2_new[:10]"
      ],
      "execution_count": null,
      "outputs": [
        {
          "output_type": "execute_result",
          "data": {
            "text/plain": [
              "array([[[0.54117644, 0.34509805, 0.34117648],\n",
              "        [0.4745098 , 0.29411763, 0.27058825],\n",
              "        [0.13333333, 0.10980392, 0.14509803],\n",
              "        ...,\n",
              "        [0.10980393, 0.00392157, 0.04313725],\n",
              "        [0.10980392, 0.01960784, 0.05882354],\n",
              "        [0.05098039, 0.09411764, 0.08627452]],\n",
              "\n",
              "       [[0.33333334, 0.15294117, 0.1607843 ],\n",
              "        [0.30588236, 0.1607843 , 0.18039215],\n",
              "        [0.14117646, 0.01568627, 0.01960784],\n",
              "        ...,\n",
              "        [0.14117646, 0.01960784, 0.01960786],\n",
              "        [0.07058824, 0.09411764, 0.09411766],\n",
              "        [0.03529412, 0.12941176, 0.10588236]],\n",
              "\n",
              "       [[0.1607843 , 0.16470587, 0.18039215],\n",
              "        [0.07058823, 0.00784314, 0.05098039],\n",
              "        [0.03137255, 0.05098039, 0.0745098 ],\n",
              "        ...,\n",
              "        [0.07450981, 0.07058825, 0.05882354],\n",
              "        [0.0862745 , 0.06666666, 0.08627452],\n",
              "        [0.06274511, 0.09019607, 0.09803922]],\n",
              "\n",
              "       ...,\n",
              "\n",
              "       [[0.37647057, 0.3215686 , 0.34509805],\n",
              "        [0.28235292, 0.2352941 , 0.22745097],\n",
              "        [0.16862744, 0.16862744, 0.14117649],\n",
              "        ...,\n",
              "        [0.09803922, 0.23137257, 0.1882353 ],\n",
              "        [0.01568627, 0.14509803, 0.13333333],\n",
              "        [0.14117648, 0.03137255, 0.01960784]],\n",
              "\n",
              "       [[0.27058822, 0.27058822, 0.27843136],\n",
              "        [0.3215686 , 0.23137254, 0.23137257],\n",
              "        [0.21960783, 0.18823528, 0.18823531],\n",
              "        ...,\n",
              "        [0.03921568, 0.10980392, 0.0862745 ],\n",
              "        [0.06666666, 0.07058823, 0.06666668],\n",
              "        [0.18431373, 0.01960784, 0.00784314]],\n",
              "\n",
              "       [[0.27843136, 0.2352941 , 0.19215685],\n",
              "        [0.14117646, 0.13333333, 0.14117649],\n",
              "        [0.15686277, 0.15686274, 0.16862747],\n",
              "        ...,\n",
              "        [0.12156863, 0.02352941, 0.04705884],\n",
              "        [0.05882353, 0.07058825, 0.07058825],\n",
              "        [0.1254902 , 0.0392157 , 0.05882354]]], dtype=float32)"
            ]
          },
          "metadata": {
            "tags": []
          },
          "execution_count": 86
        }
      ]
    },
    {
      "cell_type": "code",
      "metadata": {
        "collapsed": true,
        "id": "ufVIzKy07q-x",
        "outputId": "d9c305fd-6961-4a71-c6a9-f31126dc0546"
      },
      "source": [
        "for i,j,k in zip(img1_path, img2_path, range(42)):\n",
        "    print(i)\n",
        "    print(j)\n",
        "    print(type(k))"
      ],
      "execution_count": null,
      "outputs": [
        {
          "output_type": "stream",
          "text": [
            "E:/RS_datasets/SZTAKI_AirChange_Benchmark/SZTAKI_AirChange_Benchmark/Szada/Szada_sub_png/im_one\\0.png\n",
            "E:/RS_datasets/SZTAKI_AirChange_Benchmark/SZTAKI_AirChange_Benchmark/Szada/Szada_sub_png/im_two\\0.png\n",
            "<class 'int'>\n",
            "E:/RS_datasets/SZTAKI_AirChange_Benchmark/SZTAKI_AirChange_Benchmark/Szada/Szada_sub_png/im_one\\1.png\n",
            "E:/RS_datasets/SZTAKI_AirChange_Benchmark/SZTAKI_AirChange_Benchmark/Szada/Szada_sub_png/im_two\\1.png\n",
            "<class 'int'>\n",
            "E:/RS_datasets/SZTAKI_AirChange_Benchmark/SZTAKI_AirChange_Benchmark/Szada/Szada_sub_png/im_one\\2.png\n",
            "E:/RS_datasets/SZTAKI_AirChange_Benchmark/SZTAKI_AirChange_Benchmark/Szada/Szada_sub_png/im_two\\2.png\n",
            "<class 'int'>\n",
            "E:/RS_datasets/SZTAKI_AirChange_Benchmark/SZTAKI_AirChange_Benchmark/Szada/Szada_sub_png/im_one\\3.png\n",
            "E:/RS_datasets/SZTAKI_AirChange_Benchmark/SZTAKI_AirChange_Benchmark/Szada/Szada_sub_png/im_two\\3.png\n",
            "<class 'int'>\n",
            "E:/RS_datasets/SZTAKI_AirChange_Benchmark/SZTAKI_AirChange_Benchmark/Szada/Szada_sub_png/im_one\\4.png\n",
            "E:/RS_datasets/SZTAKI_AirChange_Benchmark/SZTAKI_AirChange_Benchmark/Szada/Szada_sub_png/im_two\\4.png\n",
            "<class 'int'>\n",
            "E:/RS_datasets/SZTAKI_AirChange_Benchmark/SZTAKI_AirChange_Benchmark/Szada/Szada_sub_png/im_one\\5.png\n",
            "E:/RS_datasets/SZTAKI_AirChange_Benchmark/SZTAKI_AirChange_Benchmark/Szada/Szada_sub_png/im_two\\5.png\n",
            "<class 'int'>\n",
            "E:/RS_datasets/SZTAKI_AirChange_Benchmark/SZTAKI_AirChange_Benchmark/Szada/Szada_sub_png/im_one\\6.png\n",
            "E:/RS_datasets/SZTAKI_AirChange_Benchmark/SZTAKI_AirChange_Benchmark/Szada/Szada_sub_png/im_two\\6.png\n",
            "<class 'int'>\n",
            "E:/RS_datasets/SZTAKI_AirChange_Benchmark/SZTAKI_AirChange_Benchmark/Szada/Szada_sub_png/im_one\\7.png\n",
            "E:/RS_datasets/SZTAKI_AirChange_Benchmark/SZTAKI_AirChange_Benchmark/Szada/Szada_sub_png/im_two\\7.png\n",
            "<class 'int'>\n",
            "E:/RS_datasets/SZTAKI_AirChange_Benchmark/SZTAKI_AirChange_Benchmark/Szada/Szada_sub_png/im_one\\8.png\n",
            "E:/RS_datasets/SZTAKI_AirChange_Benchmark/SZTAKI_AirChange_Benchmark/Szada/Szada_sub_png/im_two\\8.png\n",
            "<class 'int'>\n",
            "E:/RS_datasets/SZTAKI_AirChange_Benchmark/SZTAKI_AirChange_Benchmark/Szada/Szada_sub_png/im_one\\9.png\n",
            "E:/RS_datasets/SZTAKI_AirChange_Benchmark/SZTAKI_AirChange_Benchmark/Szada/Szada_sub_png/im_two\\9.png\n",
            "<class 'int'>\n",
            "E:/RS_datasets/SZTAKI_AirChange_Benchmark/SZTAKI_AirChange_Benchmark/Szada/Szada_sub_png/im_one\\10.png\n",
            "E:/RS_datasets/SZTAKI_AirChange_Benchmark/SZTAKI_AirChange_Benchmark/Szada/Szada_sub_png/im_two\\10.png\n",
            "<class 'int'>\n",
            "E:/RS_datasets/SZTAKI_AirChange_Benchmark/SZTAKI_AirChange_Benchmark/Szada/Szada_sub_png/im_one\\11.png\n",
            "E:/RS_datasets/SZTAKI_AirChange_Benchmark/SZTAKI_AirChange_Benchmark/Szada/Szada_sub_png/im_two\\11.png\n",
            "<class 'int'>\n",
            "E:/RS_datasets/SZTAKI_AirChange_Benchmark/SZTAKI_AirChange_Benchmark/Szada/Szada_sub_png/im_one\\12.png\n",
            "E:/RS_datasets/SZTAKI_AirChange_Benchmark/SZTAKI_AirChange_Benchmark/Szada/Szada_sub_png/im_two\\12.png\n",
            "<class 'int'>\n",
            "E:/RS_datasets/SZTAKI_AirChange_Benchmark/SZTAKI_AirChange_Benchmark/Szada/Szada_sub_png/im_one\\13.png\n",
            "E:/RS_datasets/SZTAKI_AirChange_Benchmark/SZTAKI_AirChange_Benchmark/Szada/Szada_sub_png/im_two\\13.png\n",
            "<class 'int'>\n",
            "E:/RS_datasets/SZTAKI_AirChange_Benchmark/SZTAKI_AirChange_Benchmark/Szada/Szada_sub_png/im_one\\14.png\n",
            "E:/RS_datasets/SZTAKI_AirChange_Benchmark/SZTAKI_AirChange_Benchmark/Szada/Szada_sub_png/im_two\\14.png\n",
            "<class 'int'>\n",
            "E:/RS_datasets/SZTAKI_AirChange_Benchmark/SZTAKI_AirChange_Benchmark/Szada/Szada_sub_png/im_one\\15.png\n",
            "E:/RS_datasets/SZTAKI_AirChange_Benchmark/SZTAKI_AirChange_Benchmark/Szada/Szada_sub_png/im_two\\15.png\n",
            "<class 'int'>\n",
            "E:/RS_datasets/SZTAKI_AirChange_Benchmark/SZTAKI_AirChange_Benchmark/Szada/Szada_sub_png/im_one\\16.png\n",
            "E:/RS_datasets/SZTAKI_AirChange_Benchmark/SZTAKI_AirChange_Benchmark/Szada/Szada_sub_png/im_two\\16.png\n",
            "<class 'int'>\n",
            "E:/RS_datasets/SZTAKI_AirChange_Benchmark/SZTAKI_AirChange_Benchmark/Szada/Szada_sub_png/im_one\\17.png\n",
            "E:/RS_datasets/SZTAKI_AirChange_Benchmark/SZTAKI_AirChange_Benchmark/Szada/Szada_sub_png/im_two\\17.png\n",
            "<class 'int'>\n",
            "E:/RS_datasets/SZTAKI_AirChange_Benchmark/SZTAKI_AirChange_Benchmark/Szada/Szada_sub_png/im_one\\18.png\n",
            "E:/RS_datasets/SZTAKI_AirChange_Benchmark/SZTAKI_AirChange_Benchmark/Szada/Szada_sub_png/im_two\\18.png\n",
            "<class 'int'>\n",
            "E:/RS_datasets/SZTAKI_AirChange_Benchmark/SZTAKI_AirChange_Benchmark/Szada/Szada_sub_png/im_one\\19.png\n",
            "E:/RS_datasets/SZTAKI_AirChange_Benchmark/SZTAKI_AirChange_Benchmark/Szada/Szada_sub_png/im_two\\19.png\n",
            "<class 'int'>\n",
            "E:/RS_datasets/SZTAKI_AirChange_Benchmark/SZTAKI_AirChange_Benchmark/Szada/Szada_sub_png/im_one\\20.png\n",
            "E:/RS_datasets/SZTAKI_AirChange_Benchmark/SZTAKI_AirChange_Benchmark/Szada/Szada_sub_png/im_two\\20.png\n",
            "<class 'int'>\n",
            "E:/RS_datasets/SZTAKI_AirChange_Benchmark/SZTAKI_AirChange_Benchmark/Szada/Szada_sub_png/im_one\\21.png\n",
            "E:/RS_datasets/SZTAKI_AirChange_Benchmark/SZTAKI_AirChange_Benchmark/Szada/Szada_sub_png/im_two\\21.png\n",
            "<class 'int'>\n",
            "E:/RS_datasets/SZTAKI_AirChange_Benchmark/SZTAKI_AirChange_Benchmark/Szada/Szada_sub_png/im_one\\22.png\n",
            "E:/RS_datasets/SZTAKI_AirChange_Benchmark/SZTAKI_AirChange_Benchmark/Szada/Szada_sub_png/im_two\\22.png\n",
            "<class 'int'>\n",
            "E:/RS_datasets/SZTAKI_AirChange_Benchmark/SZTAKI_AirChange_Benchmark/Szada/Szada_sub_png/im_one\\23.png\n",
            "E:/RS_datasets/SZTAKI_AirChange_Benchmark/SZTAKI_AirChange_Benchmark/Szada/Szada_sub_png/im_two\\23.png\n",
            "<class 'int'>\n",
            "E:/RS_datasets/SZTAKI_AirChange_Benchmark/SZTAKI_AirChange_Benchmark/Szada/Szada_sub_png/im_one\\24.png\n",
            "E:/RS_datasets/SZTAKI_AirChange_Benchmark/SZTAKI_AirChange_Benchmark/Szada/Szada_sub_png/im_two\\24.png\n",
            "<class 'int'>\n",
            "E:/RS_datasets/SZTAKI_AirChange_Benchmark/SZTAKI_AirChange_Benchmark/Szada/Szada_sub_png/im_one\\25.png\n",
            "E:/RS_datasets/SZTAKI_AirChange_Benchmark/SZTAKI_AirChange_Benchmark/Szada/Szada_sub_png/im_two\\25.png\n",
            "<class 'int'>\n",
            "E:/RS_datasets/SZTAKI_AirChange_Benchmark/SZTAKI_AirChange_Benchmark/Szada/Szada_sub_png/im_one\\26.png\n",
            "E:/RS_datasets/SZTAKI_AirChange_Benchmark/SZTAKI_AirChange_Benchmark/Szada/Szada_sub_png/im_two\\26.png\n",
            "<class 'int'>\n",
            "E:/RS_datasets/SZTAKI_AirChange_Benchmark/SZTAKI_AirChange_Benchmark/Szada/Szada_sub_png/im_one\\27.png\n",
            "E:/RS_datasets/SZTAKI_AirChange_Benchmark/SZTAKI_AirChange_Benchmark/Szada/Szada_sub_png/im_two\\27.png\n",
            "<class 'int'>\n",
            "E:/RS_datasets/SZTAKI_AirChange_Benchmark/SZTAKI_AirChange_Benchmark/Szada/Szada_sub_png/im_one\\28.png\n",
            "E:/RS_datasets/SZTAKI_AirChange_Benchmark/SZTAKI_AirChange_Benchmark/Szada/Szada_sub_png/im_two\\28.png\n",
            "<class 'int'>\n",
            "E:/RS_datasets/SZTAKI_AirChange_Benchmark/SZTAKI_AirChange_Benchmark/Szada/Szada_sub_png/im_one\\29.png\n",
            "E:/RS_datasets/SZTAKI_AirChange_Benchmark/SZTAKI_AirChange_Benchmark/Szada/Szada_sub_png/im_two\\29.png\n",
            "<class 'int'>\n",
            "E:/RS_datasets/SZTAKI_AirChange_Benchmark/SZTAKI_AirChange_Benchmark/Szada/Szada_sub_png/im_one\\30.png\n",
            "E:/RS_datasets/SZTAKI_AirChange_Benchmark/SZTAKI_AirChange_Benchmark/Szada/Szada_sub_png/im_two\\30.png\n",
            "<class 'int'>\n",
            "E:/RS_datasets/SZTAKI_AirChange_Benchmark/SZTAKI_AirChange_Benchmark/Szada/Szada_sub_png/im_one\\31.png\n",
            "E:/RS_datasets/SZTAKI_AirChange_Benchmark/SZTAKI_AirChange_Benchmark/Szada/Szada_sub_png/im_two\\31.png\n",
            "<class 'int'>\n",
            "E:/RS_datasets/SZTAKI_AirChange_Benchmark/SZTAKI_AirChange_Benchmark/Szada/Szada_sub_png/im_one\\32.png\n",
            "E:/RS_datasets/SZTAKI_AirChange_Benchmark/SZTAKI_AirChange_Benchmark/Szada/Szada_sub_png/im_two\\32.png\n",
            "<class 'int'>\n",
            "E:/RS_datasets/SZTAKI_AirChange_Benchmark/SZTAKI_AirChange_Benchmark/Szada/Szada_sub_png/im_one\\33.png\n",
            "E:/RS_datasets/SZTAKI_AirChange_Benchmark/SZTAKI_AirChange_Benchmark/Szada/Szada_sub_png/im_two\\33.png\n",
            "<class 'int'>\n",
            "E:/RS_datasets/SZTAKI_AirChange_Benchmark/SZTAKI_AirChange_Benchmark/Szada/Szada_sub_png/im_one\\34.png\n",
            "E:/RS_datasets/SZTAKI_AirChange_Benchmark/SZTAKI_AirChange_Benchmark/Szada/Szada_sub_png/im_two\\34.png\n",
            "<class 'int'>\n",
            "E:/RS_datasets/SZTAKI_AirChange_Benchmark/SZTAKI_AirChange_Benchmark/Szada/Szada_sub_png/im_one\\35.png\n",
            "E:/RS_datasets/SZTAKI_AirChange_Benchmark/SZTAKI_AirChange_Benchmark/Szada/Szada_sub_png/im_two\\35.png\n",
            "<class 'int'>\n",
            "E:/RS_datasets/SZTAKI_AirChange_Benchmark/SZTAKI_AirChange_Benchmark/Szada/Szada_sub_png/im_one\\36.png\n",
            "E:/RS_datasets/SZTAKI_AirChange_Benchmark/SZTAKI_AirChange_Benchmark/Szada/Szada_sub_png/im_two\\36.png\n",
            "<class 'int'>\n",
            "E:/RS_datasets/SZTAKI_AirChange_Benchmark/SZTAKI_AirChange_Benchmark/Szada/Szada_sub_png/im_one\\37.png\n",
            "E:/RS_datasets/SZTAKI_AirChange_Benchmark/SZTAKI_AirChange_Benchmark/Szada/Szada_sub_png/im_two\\37.png\n",
            "<class 'int'>\n",
            "E:/RS_datasets/SZTAKI_AirChange_Benchmark/SZTAKI_AirChange_Benchmark/Szada/Szada_sub_png/im_one\\38.png\n",
            "E:/RS_datasets/SZTAKI_AirChange_Benchmark/SZTAKI_AirChange_Benchmark/Szada/Szada_sub_png/im_two\\38.png\n",
            "<class 'int'>\n",
            "E:/RS_datasets/SZTAKI_AirChange_Benchmark/SZTAKI_AirChange_Benchmark/Szada/Szada_sub_png/im_one\\39.png\n",
            "E:/RS_datasets/SZTAKI_AirChange_Benchmark/SZTAKI_AirChange_Benchmark/Szada/Szada_sub_png/im_two\\39.png\n",
            "<class 'int'>\n",
            "E:/RS_datasets/SZTAKI_AirChange_Benchmark/SZTAKI_AirChange_Benchmark/Szada/Szada_sub_png/im_one\\40.png\n",
            "E:/RS_datasets/SZTAKI_AirChange_Benchmark/SZTAKI_AirChange_Benchmark/Szada/Szada_sub_png/im_two\\40.png\n",
            "<class 'int'>\n",
            "E:/RS_datasets/SZTAKI_AirChange_Benchmark/SZTAKI_AirChange_Benchmark/Szada/Szada_sub_png/im_one\\41.png\n",
            "E:/RS_datasets/SZTAKI_AirChange_Benchmark/SZTAKI_AirChange_Benchmark/Szada/Szada_sub_png/im_two\\41.png\n",
            "<class 'int'>\n"
          ],
          "name": "stdout"
        }
      ]
    },
    {
      "cell_type": "code",
      "metadata": {
        "id": "Jj5UiUyO7q-x"
      },
      "source": [
        "import matplotlib\n",
        "for i,j,k in zip(img1_path, img2_path, range(30)):\n",
        "    img1 = read_img(i)\n",
        "    img2 = read_img(j)\n",
        "    img_new = np.abs(img1-img2)\n",
        "    matplotlib.image.imsave(\"E:/RS_datasets/SZTAKI_AirChange_Benchmark/SZTAKI_AirChange_Benchmark/Tiszadob/Tiszadob_sub_png/two_png_sub/\"+str(k)+\".png\", img_new)"
      ],
      "execution_count": null,
      "outputs": []
    },
    {
      "cell_type": "code",
      "metadata": {
        "id": "VHHnlyHW7q-x"
      },
      "source": [
        ""
      ],
      "execution_count": null,
      "outputs": []
    }
  ]
}