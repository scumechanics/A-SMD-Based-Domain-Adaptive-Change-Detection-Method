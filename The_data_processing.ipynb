{
  "nbformat": 4,
  "nbformat_minor": 0,
  "metadata": {
    "kernelspec": {
      "display_name": "Python 3",
      "language": "python",
      "name": "python3"
    },
    "language_info": {
      "codemirror_mode": {
        "name": "ipython",
        "version": 3
      },
      "file_extension": ".py",
      "mimetype": "text/x-python",
      "name": "python",
      "nbconvert_exporter": "python",
      "pygments_lexer": "ipython3",
      "version": "3.7.0"
    },
    "colab": {
      "name": "The data processing.ipynb",
      "provenance": [],
      "include_colab_link": true
    }
  },
  "cells": [
    {
      "cell_type": "markdown",
      "metadata": {
        "id": "view-in-github",
        "colab_type": "text"
      },
      "source": [
        "<a href=\"https://colab.research.google.com/github/tanghuakang/A-SMD-Based-Domain-Adaptive-Change-Detection-Method/blob/main/The_data_processing.ipynb\" target=\"_parent\"><img src=\"https://colab.research.google.com/assets/colab-badge.svg\" alt=\"Open In Colab\"/></a>"
      ]
    },
    {
      "cell_type": "code",
      "metadata": {
        "id": "UGPj9sUu7pL2"
      },
      "source": [
        "import tiffile as tiff\n",
        "import matplotlib.pyplot as plt"
      ],
      "execution_count": null,
      "outputs": []
    },
    {
      "cell_type": "code",
      "metadata": {
        "id": "5i6vBf0i7pL_",
        "outputId": "76857bf5-8fed-40a7-efc6-596619fa8dfc"
      },
      "source": [
        "import scipy.misc\n",
        "import scipy\n",
        "scipy.__version__"
      ],
      "execution_count": null,
      "outputs": [
        {
          "output_type": "execute_result",
          "data": {
            "text/plain": [
              "'1.1.0'"
            ]
          },
          "metadata": {
            "tags": []
          },
          "execution_count": 1
        }
      ]
    },
    {
      "cell_type": "code",
      "metadata": {
        "id": "i5321Mi97pMB"
      },
      "source": [
        "import numpy as np \n",
        "import PIL.Image as Image"
      ],
      "execution_count": null,
      "outputs": []
    },
    {
      "cell_type": "code",
      "metadata": {
        "id": "MrVNxxxB7pMB"
      },
      "source": [
        "img1 = plt.imread(\"E:\\BaiduNetdiskDownload\\classif_dataset\\WHU_seg\\WHU_seg_png\\images/GF2_PMS2__L1A0001821754-MSS2.png\")\n",
        "# img2 = plt.imread(\"E:\\RS_datasets\\SZTAKI_AirChange_Benchmark\\SZTAKI_AirChange_Benchmark\\Archieve/im2.bmp\")\n",
        "# gt = plt.imread(\"E:\\RS_datasets\\SZTAKI_AirChange_Benchmark\\SZTAKI_AirChange_Benchmark\\Archieve/gt.bmp\")"
      ],
      "execution_count": null,
      "outputs": []
    },
    {
      "cell_type": "code",
      "metadata": {
        "collapsed": true,
        "id": "C8_D8vTa7pMB",
        "outputId": "54239735-4bf3-48d7-c7be-05cdf7a0b92e"
      },
      "source": [
        "# img1 = img1*255.0\n",
        "np.unique(img1)"
      ],
      "execution_count": null,
      "outputs": [
        {
          "output_type": "execute_result",
          "data": {
            "text/plain": [
              "array([0.        , 0.00392157, 0.00784314, 0.01176471, 0.01568628,\n",
              "       0.01960784, 0.02352941, 0.02745098, 0.03137255, 0.03529412,\n",
              "       0.03921569, 0.04313726, 0.04705882, 0.05098039, 0.05490196,\n",
              "       0.05882353, 0.0627451 , 0.06666667, 0.07058824, 0.07450981,\n",
              "       0.07843138, 0.08235294, 0.08627451, 0.09019608, 0.09411765,\n",
              "       0.09803922, 0.10196079, 0.10588235, 0.10980392, 0.11372549,\n",
              "       0.11764706, 0.12156863, 0.1254902 , 0.12941177, 0.13333334,\n",
              "       0.13725491, 0.14117648, 0.14509805, 0.14901961, 0.15294118,\n",
              "       0.15686275, 0.16078432, 0.16470589, 0.16862746, 0.17254902,\n",
              "       0.1764706 , 0.18039216, 0.18431373, 0.1882353 , 0.19215687,\n",
              "       0.19607843, 0.2       , 0.20392157, 0.20784314, 0.21176471,\n",
              "       0.21568628, 0.21960784, 0.22352941, 0.22745098, 0.23137255,\n",
              "       0.23529412, 0.23921569, 0.24313726, 0.24705882, 0.25490198,\n",
              "       0.25882354, 0.2627451 , 0.26666668, 0.27058825, 0.27450982,\n",
              "       0.2784314 , 0.28235295, 0.28627452, 0.2901961 , 0.29411766,\n",
              "       0.29803923, 0.3019608 , 0.30588236, 0.30980393, 0.3137255 ,\n",
              "       0.31764707, 0.32156864, 0.3254902 , 0.32941177, 0.33333334,\n",
              "       0.3372549 , 0.34117648, 0.34509805, 0.34901962, 0.3529412 ,\n",
              "       0.35686275, 0.36078432, 0.3647059 , 0.36862746, 0.37254903,\n",
              "       0.3764706 , 0.38039216, 0.38431373, 0.3882353 , 0.39215687,\n",
              "       0.39607844, 0.4       , 0.40392157, 0.40784314, 0.4117647 ,\n",
              "       0.41568628, 0.41960785, 0.42352942, 0.42745098, 0.43137255,\n",
              "       0.43529412, 0.4392157 , 0.44313726, 0.44705883, 0.4509804 ,\n",
              "       0.45490196, 0.45882353, 0.4627451 , 0.46666667, 0.47058824,\n",
              "       0.4745098 , 0.47843137, 0.48235294, 0.4862745 , 0.49019608,\n",
              "       0.49411765, 0.49803922, 0.5058824 , 0.50980395, 0.5137255 ,\n",
              "       0.5176471 , 0.52156866, 0.5254902 , 0.5294118 , 0.53333336,\n",
              "       0.5372549 , 0.5411765 , 0.54509807, 0.54901963, 0.5529412 ,\n",
              "       0.5568628 , 0.56078434, 0.5647059 , 0.5686275 , 0.57254905,\n",
              "       0.5764706 , 0.5803922 , 0.58431375, 0.5882353 , 0.5921569 ,\n",
              "       0.59607846, 0.6       , 0.6039216 , 0.60784316, 0.6117647 ,\n",
              "       0.6156863 , 0.61960787, 0.62352943, 0.627451  , 0.6313726 ,\n",
              "       0.63529414, 0.6392157 , 0.6431373 , 0.64705884, 0.6509804 ,\n",
              "       0.654902  , 0.65882355, 0.6627451 , 0.6666667 , 0.67058825,\n",
              "       0.6745098 , 0.6784314 , 0.68235296, 0.6862745 , 0.6901961 ,\n",
              "       0.69411767, 0.69803923, 0.7019608 , 0.7058824 , 0.70980394,\n",
              "       0.7137255 , 0.7176471 , 0.72156864, 0.7254902 , 0.7294118 ,\n",
              "       0.73333335, 0.7372549 , 0.7411765 , 0.74509805, 0.7490196 ,\n",
              "       0.75686276, 0.7607843 , 0.7647059 , 0.76862746, 0.77254903,\n",
              "       0.7764706 , 0.78039217, 0.78431374, 0.7882353 , 0.7921569 ,\n",
              "       0.79607844, 0.8       , 0.8039216 , 0.80784315, 0.8117647 ,\n",
              "       0.8156863 , 0.81960785, 0.8235294 , 0.827451  , 0.83137256,\n",
              "       0.8352941 , 0.8392157 , 0.84313726, 0.84705883, 0.8509804 ,\n",
              "       0.85490197, 0.85882354, 0.8627451 , 0.8666667 , 0.87058824,\n",
              "       0.8745098 , 0.8784314 , 0.88235295, 0.8862745 , 0.8901961 ,\n",
              "       0.89411765, 0.8980392 , 0.9019608 , 0.90588236, 0.9098039 ,\n",
              "       0.9137255 , 0.91764706, 0.92156863, 0.9254902 , 0.92941177,\n",
              "       0.93333334, 0.9372549 , 0.9411765 , 0.94509804, 0.9490196 ,\n",
              "       0.9529412 , 0.95686275, 0.9607843 , 0.9647059 , 0.96862745,\n",
              "       0.972549  , 0.9764706 , 0.98039216, 0.9843137 , 0.9882353 ,\n",
              "       0.99215686, 0.99607843, 1.        ], dtype=float32)"
            ]
          },
          "metadata": {
            "tags": []
          },
          "execution_count": 49
        }
      ]
    },
    {
      "cell_type": "code",
      "metadata": {
        "id": "RyTMmwh67pMC",
        "outputId": "8cbc8957-6865-49c0-824d-ff7115a28ae7"
      },
      "source": [
        "img1.shape"
      ],
      "execution_count": null,
      "outputs": [
        {
          "output_type": "execute_result",
          "data": {
            "text/plain": [
              "(6800, 7200, 3)"
            ]
          },
          "metadata": {
            "tags": []
          },
          "execution_count": 68
        }
      ]
    },
    {
      "cell_type": "code",
      "metadata": {
        "id": "zDD3X42W7pMC"
      },
      "source": [
        "img_col = img1.shape[0]\n",
        "img_row = img1.shape[1]"
      ],
      "execution_count": null,
      "outputs": []
    },
    {
      "cell_type": "code",
      "metadata": {
        "id": "ihN4jxAA7pMD",
        "outputId": "4997dcde-59f7-4f50-d6a2-21f0a4aab74e"
      },
      "source": [
        "img_col"
      ],
      "execution_count": null,
      "outputs": [
        {
          "output_type": "execute_result",
          "data": {
            "text/plain": [
              "6800"
            ]
          },
          "metadata": {
            "tags": []
          },
          "execution_count": 70
        }
      ]
    },
    {
      "cell_type": "code",
      "metadata": {
        "id": "ToaMc7bw7pMD",
        "outputId": "e4de6608-b2a8-4e8a-bfce-2472a474d637"
      },
      "source": [
        "img_row"
      ],
      "execution_count": null,
      "outputs": [
        {
          "output_type": "execute_result",
          "data": {
            "text/plain": [
              "7200"
            ]
          },
          "metadata": {
            "tags": []
          },
          "execution_count": 71
        }
      ]
    },
    {
      "cell_type": "code",
      "metadata": {
        "id": "aveLYF2P7pMD"
      },
      "source": [
        "k=2754\n",
        "for i in range(img_col-399):\n",
        "    if i%400==0:\n",
        "        for j in range(img_row-399):\n",
        "            if j%400==0:\n",
        "                a = img1[i:i+400, j:j+400, :]\n",
        "                p = str(k)\n",
        "                path = \"E:\\BaiduNetdiskDownload\\classif_dataset\\WHU_seg\\WHU_seg_png\\WHU_seg_fourMulfour\\subimage/\" + p + \".png\"\n",
        "                plt.imsave(path, a)\n",
        "                k = int(p)\n",
        "                k += 1\n",
        "            j +=1\n",
        "    i += 1"
      ],
      "execution_count": null,
      "outputs": []
    },
    {
      "cell_type": "code",
      "metadata": {
        "id": "0zrWVdZf7pME"
      },
      "source": [
        "#ground_truth\n",
        "import PIL.Image as Image\n",
        "k=2754\n",
        "for i in range(img_col-399):\n",
        "    if i%400==0:\n",
        "        for j in range(img_row-399):\n",
        "            if j%400==0:\n",
        "                a = img1[i:i+400, j:j+400]\n",
        "                p = str(k)\n",
        "                a = Image.fromarray(np.uint8(a))\n",
        "                path = \"E:\\BaiduNetdiskDownload\\classif_dataset\\WHU_seg\\WHU_seg_png\\WHU_seg_fourMulfour\\sublabel/\" + p + \".png\"\n",
        "                plt.imsave(path, a)\n",
        "                k = int(p)\n",
        "                k += 1\n",
        "            j +=1\n",
        "    i += 1"
      ],
      "execution_count": null,
      "outputs": []
    },
    {
      "cell_type": "code",
      "metadata": {
        "id": "xfBa3pWB7pME"
      },
      "source": [
        "label2color_dict = {\n",
        "                    0:[200,0,0],\n",
        "                    1:[250,0,150],\n",
        "                    2:[200,150,150], \n",
        "                    3:[250,150,150],\n",
        "                    4:[0,200,0],\n",
        "                    5:[150,250,0],\n",
        "                    6:[150,200,150],\n",
        "                    7:[200,0,200],\n",
        "                    8:[150,0,250],\n",
        "                    9:[150,150,250],\n",
        "                    10:[250,200,0],\n",
        "                    11:[200,200,0],\n",
        "                    12:[0,0,200],\n",
        "                    13:[0,150,200],\n",
        "                    14:[0,200,250],\n",
        "                    15:[0,0,0]\n",
        "                    }\n",
        "def get_keys(value):\n",
        "    p=0\n",
        "    i=0\n",
        "    for k,v in label2color_dict.items():\n",
        "        if v == value:\n",
        "            p = k\n",
        "            break\n",
        "        i += 1\n",
        "    if i > 15:\n",
        "        p = 15\n",
        "    return p"
      ],
      "execution_count": null,
      "outputs": []
    },
    {
      "cell_type": "code",
      "metadata": {
        "id": "MTgjFuA27pMF"
      },
      "source": [
        "# 26*256\n",
        "img_col = 6656\n",
        "img_row = 7168"
      ],
      "execution_count": null,
      "outputs": []
    },
    {
      "cell_type": "code",
      "metadata": {
        "id": "MwkPkyTA7pMF"
      },
      "source": [
        "img = img[:6656, :7168]"
      ],
      "execution_count": null,
      "outputs": []
    },
    {
      "cell_type": "code",
      "metadata": {
        "id": "cLQ2Jnvs7pMF"
      },
      "source": [
        "img = img_label[:6656, :7168]"
      ],
      "execution_count": null,
      "outputs": []
    },
    {
      "cell_type": "code",
      "metadata": {
        "id": "6z3lYX-57pMF"
      },
      "source": [
        "img.shape"
      ],
      "execution_count": null,
      "outputs": []
    },
    {
      "cell_type": "code",
      "metadata": {
        "id": "GfBxHkGL7pMF"
      },
      "source": [
        "k=0\n",
        "for i in range(img_col-1):\n",
        "    if i%256==0:\n",
        "        for j in range(img_row-1):\n",
        "            if j%256==0:\n",
        "                a = img[i:i+256, j:j+256]\n",
        "                p = str(k)\n",
        "                path = \"E:/BaiduNetdiskDownload/classif_dataset/WHU_seg/WHU_seg_png/WHU_seg_ftclass_png/buchong0_727/\" + p + \".png\"\n",
        "                plt.imsave(path, a)\n",
        "                k = int(p)\n",
        "                k += 1\n",
        "            j +=1\n",
        "    i += 1"
      ],
      "execution_count": null,
      "outputs": []
    },
    {
      "cell_type": "code",
      "metadata": {
        "id": "qCARh4LL7pMG"
      },
      "source": [
        "26*28*2"
      ],
      "execution_count": null,
      "outputs": []
    },
    {
      "cell_type": "code",
      "metadata": {
        "id": "ebJkWOmW7pMG"
      },
      "source": [
        "img_row = img.shape[1]"
      ],
      "execution_count": null,
      "outputs": []
    },
    {
      "cell_type": "code",
      "metadata": {
        "id": "iCaLuuCm7pMG"
      },
      "source": [
        "img_row"
      ],
      "execution_count": null,
      "outputs": []
    },
    {
      "cell_type": "code",
      "metadata": {
        "id": "eZrAYLbN7pMG"
      },
      "source": [
        "img_col = img.shape[0]"
      ],
      "execution_count": null,
      "outputs": []
    },
    {
      "cell_type": "code",
      "metadata": {
        "id": "EMNyxFTv7pMH"
      },
      "source": [
        "k=0\n",
        "for i in range(img_col-1):\n",
        "    if i%256==0:\n",
        "        for j in range(img_row-1):\n",
        "            if j%256==0:\n",
        "                a = img[i:i+256, j:j+256]\n",
        "                p = str(k)\n",
        "\n",
        "                k = int(p)\n",
        "                k += 1\n",
        "            j +=1\n",
        "    i += 1\n",
        "k"
      ],
      "execution_count": null,
      "outputs": []
    },
    {
      "cell_type": "code",
      "metadata": {
        "id": "8IibMMnH7pMH"
      },
      "source": [
        "import tensorflow as tf"
      ],
      "execution_count": null,
      "outputs": []
    },
    {
      "cell_type": "code",
      "metadata": {
        "id": "Xt9zISxm7pMH"
      },
      "source": [
        "1+1"
      ],
      "execution_count": null,
      "outputs": []
    },
    {
      "cell_type": "code",
      "metadata": {
        "id": "Y1B4xitX7pMH"
      },
      "source": [
        "import matplotlib.pyplot as plt\n",
        "import numpy as np\n",
        "from PIL import Image\n",
        "import os\n",
        "import pathlib"
      ],
      "execution_count": null,
      "outputs": []
    },
    {
      "cell_type": "code",
      "metadata": {
        "id": "Q69zpXnE7pMH"
      },
      "source": [
        "import glob"
      ],
      "execution_count": null,
      "outputs": []
    },
    {
      "cell_type": "code",
      "metadata": {
        "id": "84vpRm2n7pMI"
      },
      "source": [
        "img_dir = \"E:\\\\BaiduNetdiskDownload\\\\classif_dataset\\\\WHU_seg\\\\WHU_segment\""
      ],
      "execution_count": null,
      "outputs": []
    },
    {
      "cell_type": "code",
      "metadata": {
        "id": "_Sgn1tSZ7pMK"
      },
      "source": [
        "img_dir_all = glob.glob(\"E:\\\\BaiduNetdiskDownload\\\\classif_dataset\\\\WHU_seg\\\\WHU_segment\\*\\*.tif\")"
      ],
      "execution_count": null,
      "outputs": []
    },
    {
      "cell_type": "code",
      "metadata": {
        "id": "XEU5_Uhr7pML"
      },
      "source": [
        "img_dir_all"
      ],
      "execution_count": null,
      "outputs": []
    },
    {
      "cell_type": "code",
      "metadata": {
        "id": "MqBf-wrP7pML"
      },
      "source": [
        "train_img_tif = glob.glob(\"E:\\\\BaiduNetdiskDownload\\\\classif_dataset\\\\WHU_seg\\\\WHU_segment\\train_RGB\\*.tif\")"
      ],
      "execution_count": null,
      "outputs": []
    },
    {
      "cell_type": "code",
      "metadata": {
        "id": "ulI1hQMu7pMM"
      },
      "source": [
        "distDirectory"
      ],
      "execution_count": null,
      "outputs": []
    },
    {
      "cell_type": "code",
      "metadata": {
        "id": "sEOIzJm87pMM"
      },
      "source": [
        "distImagePath"
      ],
      "execution_count": null,
      "outputs": []
    },
    {
      "cell_type": "code",
      "metadata": {
        "id": "n08LnjE77pMM"
      },
      "source": [
        "imgname = \"E:\\\\BaiduNetdiskDownload\\\\classif_dataset\\\\WHU_seg\\\\WHU_segment\\\\label\\\\450.tif\""
      ],
      "execution_count": null,
      "outputs": []
    },
    {
      "cell_type": "code",
      "metadata": {
        "id": "gXzzW7WM7pMN"
      },
      "source": [
        "len(imgname)"
      ],
      "execution_count": null,
      "outputs": []
    },
    {
      "cell_type": "code",
      "metadata": {
        "id": "Xk3oJ0nT7pMN"
      },
      "source": [
        "imgname[66:-4]"
      ],
      "execution_count": null,
      "outputs": []
    },
    {
      "cell_type": "code",
      "metadata": {
        "id": "FRSQJL9-7pMN"
      },
      "source": [
        "imagesDirectory=\"E:\\\\BaiduNetdiskDownload\\\\classif_dataset\\\\WHU_seg\\\\WHU_segment\\\\train_RGB\" \n",
        "distDirectory = os.path.dirname(imagesDirectory)\n",
        "distDirectory = os.path.join(distDirectory, \"jpgImages\")#"
      ],
      "execution_count": null,
      "outputs": []
    },
    {
      "cell_type": "code",
      "metadata": {
        "id": "oduB3iJ_7pMN"
      },
      "source": [
        "dirs = os.path.join(distDirectory+\"12.jpg\")"
      ],
      "execution_count": null,
      "outputs": []
    },
    {
      "cell_type": "code",
      "metadata": {
        "id": "jMP1InvV7pMO"
      },
      "source": [
        "os.listdir(\"E:\\\\BaiduNetdiskDownload\\\\classif_dataset\\\\WHU_seg\\\\WHU_segment\\\\image_RGB\")"
      ],
      "execution_count": null,
      "outputs": []
    },
    {
      "cell_type": "code",
      "metadata": {
        "id": "KoIl4ysE7pMO"
      },
      "source": [
        "itsss = os.path.join(\"E:\\\\BaiduNetdiskDownload\\\\classif_dataset\\\\WHU_seg\\\\WHU_segment\\\\image_RGB\", \"13.tif\")"
      ],
      "execution_count": null,
      "outputs": []
    },
    {
      "cell_type": "code",
      "metadata": {
        "id": "fwF8rEXk7pMO"
      },
      "source": [
        "itsss[70:-4]"
      ],
      "execution_count": null,
      "outputs": []
    },
    {
      "cell_type": "code",
      "metadata": {
        "id": "yu3W4Gbo7pMO"
      },
      "source": [
        "from PIL import Image\n",
        "import os\n",
        "\n",
        "imagesDirectory=\"E:\\\\BaiduNetdiskDownload\\\\classif_dataset\\\\WHU_seg\\\\WHU_segment\\\\label\" \n",
        "distDirectory = os.path.dirname(imagesDirectory)\n",
        "distDirectory = os.path.join(distDirectory, \"jpglabel\")#\n",
        "for imageName in os.listdir(imagesDirectory):\n",
        "    imagePath = os.path.join(imagesDirectory, imageName)\n",
        "    image = Image.open(imagePath)\n",
        "    distImagePath = os.path.join(distDirectory,imagePath[70:-4] +'.jpg')\n",
        "    image.save(distImagePath)"
      ],
      "execution_count": null,
      "outputs": []
    },
    {
      "cell_type": "code",
      "metadata": {
        "id": "v6ADgaQG7pMP"
      },
      "source": [
        "from PIL import Image\n",
        "import os\n",
        "\n",
        "imagesDirectory=\"E:\\\\BaiduNetdiskDownload\\\\classif_dataset\\\\WHU_seg\\\\WHU_segment\\\\label\" 文件夹路径\n",
        "distDirectory = os.path.dirname(imagesDirectory)\n",
        "distDirectory = os.path.join(distDirectory, \"jpglabel\")\n",
        "for imageName in os.listdir(imagesDirectory):\n",
        "    imagePath = os.path.join(imagesDirectory, imageName)\n",
        "    image = Image.open(imagePath)\n",
        "    distImagePath = os.path.join(distDirectory,imagePath[66:-4] +'.jpg')\n",
        "    image.save(distImagePath)"
      ],
      "execution_count": null,
      "outputs": []
    },
    {
      "cell_type": "code",
      "metadata": {
        "id": "F5Wldicu7pMP"
      },
      "source": [
        "img_path = \"E:\\BaiduNetdiskDownload\\classif_dataset\\\\0.png\""
      ],
      "execution_count": null,
      "outputs": []
    },
    {
      "cell_type": "code",
      "metadata": {
        "id": "Kdq0CCvN7pMP"
      },
      "source": [
        "img_path"
      ],
      "execution_count": null,
      "outputs": []
    },
    {
      "cell_type": "code",
      "metadata": {
        "id": "lJiqwbvT7pMP"
      },
      "source": [
        "import numpy as np "
      ],
      "execution_count": null,
      "outputs": []
    },
    {
      "cell_type": "code",
      "metadata": {
        "id": "oZyGSCWE7pMQ"
      },
      "source": [
        "from PIL import Image\n",
        "import matplotlib.pyplot as plt"
      ],
      "execution_count": null,
      "outputs": []
    },
    {
      "cell_type": "code",
      "metadata": {
        "id": "7A1JVV4S7pMQ"
      },
      "source": [
        "img = plt.imread(img_path)"
      ],
      "execution_count": null,
      "outputs": []
    },
    {
      "cell_type": "code",
      "metadata": {
        "id": "9Rvp8RPX7pMQ"
      },
      "source": [
        "img"
      ],
      "execution_count": null,
      "outputs": []
    },
    {
      "cell_type": "code",
      "metadata": {
        "id": "WF6EDnWg7pMQ"
      },
      "source": [
        "img_path = \"E:\\\\BaiduNetdiskDownload\\\\classif_dataset\\\\WHU_seg\\\\WHU_segment\\\\label\\\\0.tif\""
      ],
      "execution_count": null,
      "outputs": []
    },
    {
      "cell_type": "code",
      "metadata": {
        "id": "PyNQ9NLU7pMQ"
      },
      "source": [
        "img = plt.imread(img_path)"
      ],
      "execution_count": null,
      "outputs": []
    },
    {
      "cell_type": "code",
      "metadata": {
        "id": "xjglCFhO7pMR"
      },
      "source": [
        "img"
      ],
      "execution_count": null,
      "outputs": []
    },
    {
      "cell_type": "code",
      "metadata": {
        "id": "vbh12TxS7pMR"
      },
      "source": [
        "import PIL"
      ],
      "execution_count": null,
      "outputs": []
    },
    {
      "cell_type": "code",
      "metadata": {
        "id": "TpD6-LK77pMR"
      },
      "source": [
        "import scipy.misc\n",
        "scipy.misc.toimage(img, cmin=0.0, cmax=...,).save('E:\\BaiduNetdiskDownload\\classif_dataset\\output.jpg')"
      ],
      "execution_count": null,
      "outputs": []
    },
    {
      "cell_type": "code",
      "metadata": {
        "id": "fEgUZYxN7pMR"
      },
      "source": [
        "img_1 = \"E:\\BaiduNetdiskDownload\\classif_dataset\\output.jpg\"\n",
        "img_2 = plt.imread(img_1)\n",
        "img_2"
      ],
      "execution_count": null,
      "outputs": []
    },
    {
      "cell_type": "code",
      "metadata": {
        "id": "t7prd8Dm7pMR"
      },
      "source": [
        "import tensorflow as tf\n"
      ],
      "execution_count": null,
      "outputs": []
    },
    {
      "cell_type": "code",
      "metadata": {
        "id": "FPMMX7pw7pMR"
      },
      "source": [
        "import cv2\n",
        "cv2.imwrite(\"E:\\BaiduNetdiskDownload\\classif_dataset\\\\0.png\", img)"
      ],
      "execution_count": null,
      "outputs": []
    },
    {
      "cell_type": "code",
      "metadata": {
        "id": "ksS1gI_b7pMS"
      },
      "source": [
        "img_0 = \"E:\\BaiduNetdiskDownload\\classif_dataset\\\\0.png\"\n",
        "img_0"
      ],
      "execution_count": null,
      "outputs": []
    },
    {
      "cell_type": "code",
      "metadata": {
        "id": "wZiWARH57pMS"
      },
      "source": [
        "img_0_0 = plt.imread(img_0)"
      ],
      "execution_count": null,
      "outputs": []
    },
    {
      "cell_type": "code",
      "metadata": {
        "id": "W1yH0mPb7pMS"
      },
      "source": [
        "img_0_0"
      ],
      "execution_count": null,
      "outputs": []
    },
    {
      "cell_type": "code",
      "metadata": {
        "id": "hilmVYTi7pMS"
      },
      "source": [
        "new_img = Image.fromarray(img)\n",
        "new_img.save('E:\\BaiduNetdiskDownload\\classif_dataset\\image_fromarray_test.png')"
      ],
      "execution_count": null,
      "outputs": []
    },
    {
      "cell_type": "code",
      "metadata": {
        "id": "6-KNYnAu7pMS"
      },
      "source": [
        "new_img_output = \"E:\\BaiduNetdiskDownload\\classif_dataset\\image_fromarray_test.png\"\n",
        "img_open = plt.imread(new_img_output)*255\n",
        "img_open"
      ],
      "execution_count": null,
      "outputs": []
    },
    {
      "cell_type": "code",
      "metadata": {
        "id": "yIe4bYUU7pMT"
      },
      "source": [
        "img_path = \"E:\\BaiduNetdiskDownload\\classif_dataset\\WHU_seg\\image_RGB\\GF2_PMS2__L1A0001821754-MSS2.tif\""
      ],
      "execution_count": null,
      "outputs": []
    },
    {
      "cell_type": "code",
      "metadata": {
        "id": "tUaaw6qm7pMT"
      },
      "source": [
        "img_path"
      ],
      "execution_count": null,
      "outputs": []
    },
    {
      "cell_type": "code",
      "metadata": {
        "id": "fqRiLib67pMT"
      },
      "source": [
        "img = plt.imread(img_path)"
      ],
      "execution_count": null,
      "outputs": []
    },
    {
      "cell_type": "code",
      "metadata": {
        "id": "9eWNgur27pMT"
      },
      "source": [
        "img"
      ],
      "execution_count": null,
      "outputs": []
    },
    {
      "cell_type": "code",
      "metadata": {
        "id": "m6uABp6r7pMT"
      },
      "source": [
        "new_img = Image.fromarray(img)\n",
        "# new_img.save(\"E:\\BaiduNetdiskDownload\\classif_dataset\\WHU_seg\\WHU_seg_png\\images\\GF2_PMS2__L1A0001821754-MSS2.png\")"
      ],
      "execution_count": null,
      "outputs": []
    },
    {
      "cell_type": "code",
      "metadata": {
        "id": "Q5gAWFTP7pMT"
      },
      "source": [
        "img = \"E:\\BaiduNetdiskDownload\\classif_dataset\\WHU_seg\\WHU_seg_png\\sub_label\\\\0.png\""
      ],
      "execution_count": null,
      "outputs": []
    },
    {
      "cell_type": "code",
      "metadata": {
        "id": "njN_F0HC7pMU"
      },
      "source": [
        "img_open = plt.imread(img)"
      ],
      "execution_count": null,
      "outputs": []
    },
    {
      "cell_type": "code",
      "metadata": {
        "id": "eueoP7527pMU"
      },
      "source": [
        "img_open*255"
      ],
      "execution_count": null,
      "outputs": []
    },
    {
      "cell_type": "code",
      "metadata": {
        "id": "wQyqNOLH7pMU"
      },
      "source": [
        "path_tif = \"E:\\BaiduNetdiskDownload\\classif_dataset\\Zurich_dataset_v1.0\\images_tif\\zh2.tif\""
      ],
      "execution_count": null,
      "outputs": []
    },
    {
      "cell_type": "code",
      "metadata": {
        "id": "A0mCkazh7pMU"
      },
      "source": [
        "path_tif"
      ],
      "execution_count": null,
      "outputs": []
    },
    {
      "cell_type": "code",
      "metadata": {
        "id": "r_RQaJTd7pMU"
      },
      "source": [
        "img = tiff.imread(path_tif)"
      ],
      "execution_count": null,
      "outputs": []
    },
    {
      "cell_type": "code",
      "metadata": {
        "id": "f0NtliIW7pMV"
      },
      "source": [
        "imgrgb = img[:, :, :3]"
      ],
      "execution_count": null,
      "outputs": []
    },
    {
      "cell_type": "code",
      "metadata": {
        "id": "R6YB2cDk7pMV"
      },
      "source": [
        "imgrgb.shape"
      ],
      "execution_count": null,
      "outputs": []
    },
    {
      "cell_type": "code",
      "metadata": {
        "id": "9IvYbL-m7pMV"
      },
      "source": [
        "plt.imshow(imgrgb/255.0)"
      ],
      "execution_count": null,
      "outputs": []
    },
    {
      "cell_type": "code",
      "metadata": {
        "id": "Qb1BAD9R7pMV"
      },
      "source": [
        "img_label = \"E:\\BaiduNetdiskDownload\\classif_dataset\\Zurich_dataset_v1.0\\groundtruth\\zh14_GT.tif\""
      ],
      "execution_count": null,
      "outputs": []
    },
    {
      "cell_type": "code",
      "metadata": {
        "id": "kSSOXr1Z7pMV"
      },
      "source": [
        "img_label = tiff.imread(img_label)"
      ],
      "execution_count": null,
      "outputs": []
    },
    {
      "cell_type": "code",
      "metadata": {
        "id": "dQMxdM6Z7pMV"
      },
      "source": [
        "img_label.shape"
      ],
      "execution_count": null,
      "outputs": []
    },
    {
      "cell_type": "code",
      "metadata": {
        "id": "YIhfNe0M7pMW"
      },
      "source": [
        "plt.imshow(img_label)"
      ],
      "execution_count": null,
      "outputs": []
    },
    {
      "cell_type": "code",
      "metadata": {
        "id": "N3btMBUD7pMW"
      },
      "source": [
        "import cv2\n",
        "img_2 = tiff.imread(r\"E:\\BaiduNetdiskDownload\\classif_dataset\\Zurich_dataset_v1.0\\images_tif\\zh14.tif\")\n",
        "print(img_2.shape)"
      ],
      "execution_count": null,
      "outputs": []
    },
    {
      "cell_type": "code",
      "metadata": {
        "id": "ZJAyUt2O7pMW"
      },
      "source": [
        "plt.figure(figsize=(10,10))\n",
        "plt.imshow(img_2)\n",
        "plt.imsave(\"E:\\BaiduNetdiskDownload\\classif_dataset\\Zurich_dataset_v1.0\\images_tif\\zh14png.png\", img_2)"
      ],
      "execution_count": null,
      "outputs": []
    },
    {
      "cell_type": "code",
      "metadata": {
        "id": "ZF2c9eXy7pMW"
      },
      "source": [
        "import cv2\n",
        "img = cv2.imread(\"E:\\BaiduNetdiskDownload\\classif_dataset\\Zurich_dataset_v1.0\\images_tif\\zh1.tif\", 1)"
      ],
      "execution_count": null,
      "outputs": []
    },
    {
      "cell_type": "code",
      "metadata": {
        "id": "ka2qh0jw7pMW"
      },
      "source": [
        "plt.imshow(img)"
      ],
      "execution_count": null,
      "outputs": []
    },
    {
      "cell_type": "code",
      "metadata": {
        "id": "v49l_-U67pMX"
      },
      "source": [
        "img_root = tiff.imread(r\"E:\\BaiduNetdiskDownload\\classif_dataset\\Zurich_dataset_v1.0\\images_tif\\zh1.tif\")\n",
        "img = img_root[:,:,:3]"
      ],
      "execution_count": null,
      "outputs": []
    },
    {
      "cell_type": "code",
      "metadata": {
        "id": "6AkOMDQp7pMX"
      },
      "source": [
        "img.shape"
      ],
      "execution_count": null,
      "outputs": []
    },
    {
      "cell_type": "code",
      "metadata": {
        "id": "DLhnnOuY7pMX"
      },
      "source": [
        "import PIL\n",
        "add_image()"
      ],
      "execution_count": null,
      "outputs": []
    },
    {
      "cell_type": "code",
      "metadata": {
        "id": "ztN23EY77pMX"
      },
      "source": [
        "img = Image.fromarray(img)"
      ],
      "execution_count": null,
      "outputs": []
    },
    {
      "cell_type": "markdown",
      "metadata": {
        "id": "V63BfqXO7pMX"
      },
      "source": [
        "# Dataset"
      ]
    },
    {
      "cell_type": "code",
      "metadata": {
        "id": "gxm31rMQ7pMY"
      },
      "source": [
        "# %% Convert RGB ground truths to CLASS \\in {1,...,C} raster format\n",
        "# LEGEND = [\n",
        "#     255    255    255;  % Background\n",
        "#       0      0      0;  % Roads\n",
        "#     100    100    100;  % Buildings\n",
        "#       0    125      0;  % Trees\n",
        "#       0    255      0;  % Grass\n",
        "#     150     80      0;  % Bare Soil\n",
        "#       0      0    150;  % Water\n",
        "#     255    255      0;  % Railways\n",
        "#     150    150    255]; % Swimming Pools \n",
        "\n",
        "# zurich summer label"
      ],
      "execution_count": null,
      "outputs": []
    },
    {
      "cell_type": "code",
      "metadata": {
        "id": "x7-UwYtj7pMY"
      },
      "source": [
        "import matplotlib.pyplot as plt\n",
        "import numpy as np\n",
        "import glob\n",
        "import scipy.misc\n",
        "from PIL import Image\n",
        "import re"
      ],
      "execution_count": null,
      "outputs": []
    },
    {
      "cell_type": "code",
      "metadata": {
        "id": "S5MVfbe57pMY"
      },
      "source": [
        "img_path = \"E:\\BaiduNetdiskDownload\\classif_dataset\\WHU_seg\\WHU_seg_png\\WHU_seg_15class_png\\sub_label\\\\1111.png\"\n",
        "img = plt.imread(img_path)*255.0"
      ],
      "execution_count": null,
      "outputs": []
    },
    {
      "cell_type": "code",
      "metadata": {
        "id": "ji_TYPqt7pMY"
      },
      "source": [
        "img[:,1,:]"
      ],
      "execution_count": null,
      "outputs": []
    },
    {
      "cell_type": "code",
      "metadata": {
        "id": "P0XAM8OT7pMZ"
      },
      "source": [
        "img[:,:,:3]"
      ],
      "execution_count": null,
      "outputs": []
    },
    {
      "cell_type": "code",
      "metadata": {
        "id": "XYoDyfoV7pMa"
      },
      "source": [
        "def get_keys(value):\n",
        "    label2color_dict = {\n",
        "                        0:[0,0,0],\n",
        "                        0:[0,155,61],\n",
        "                        1:[200,0,0],\n",
        "                        2:[250,0,150],\n",
        "                        3:[200,150,150], \n",
        "                        4:[250,150,150],\n",
        "                        5:[0,200,0],\n",
        "                        6:[150,250,0],\n",
        "                        7:[150,200,150],\n",
        "                        8:[200,0,200],\n",
        "                        9:[150,0,250],\n",
        "                        10:[150,150,250],\n",
        "                        11:[250,200,0],\n",
        "                        12:[200,200,0],\n",
        "                        13:[0,0,200],\n",
        "                        14:[0,150,200],\n",
        "                        15:[0,200,250]\n",
        "                       }\n",
        "\n",
        "        \n",
        "    return [k for k,v in label2color_dict.items() if v==value]"
      ],
      "execution_count": null,
      "outputs": []
    },
    {
      "cell_type": "code",
      "metadata": {
        "id": "pr5XVzs57pMa"
      },
      "source": [
        "a = get_keys(value)"
      ],
      "execution_count": null,
      "outputs": []
    },
    {
      "cell_type": "code",
      "metadata": {
        "id": "0mZUFCDQ7pMa"
      },
      "source": [
        "value"
      ],
      "execution_count": null,
      "outputs": []
    },
    {
      "cell_type": "code",
      "metadata": {
        "id": "lgzhopkJ7pMa"
      },
      "source": [
        "value = list(img[255,255,:3])"
      ],
      "execution_count": null,
      "outputs": []
    },
    {
      "cell_type": "code",
      "metadata": {
        "id": "1h3AYroM7pMb"
      },
      "source": [
        "img_path = \"E:\\BaiduNetdiskDownload\\classif_dataset\\WHU_seg\\WHU_seg_png\\WHU_seg_15class_png\\sub_label\\\\6617.png\"\n",
        "img = plt.imread(img_path)*255.0\n",
        "img = img[:,:,:3]"
      ],
      "execution_count": null,
      "outputs": []
    },
    {
      "cell_type": "code",
      "metadata": {
        "id": "Y03Cq-le7pMb"
      },
      "source": [
        "img.shape"
      ],
      "execution_count": null,
      "outputs": []
    },
    {
      "cell_type": "code",
      "metadata": {
        "id": "6bvmwnwq7pMc"
      },
      "source": [
        "img_label = np.zeros((img.shape[0],img.shape[1]),np.uint8)\n",
        "img_label.shape[0]"
      ],
      "execution_count": null,
      "outputs": []
    },
    {
      "cell_type": "code",
      "metadata": {
        "id": "MaD_96xx7pMc"
      },
      "source": [
        "img_label[255,2] = 2"
      ],
      "execution_count": null,
      "outputs": []
    },
    {
      "cell_type": "code",
      "metadata": {
        "id": "g4jt_XdC7pMc"
      },
      "source": [
        "img_label[255,2]"
      ],
      "execution_count": null,
      "outputs": []
    },
    {
      "cell_type": "code",
      "metadata": {
        "id": "UGZMKAaF7pMc"
      },
      "source": [
        "img_label[122,2] = 2"
      ],
      "execution_count": null,
      "outputs": []
    },
    {
      "cell_type": "code",
      "metadata": {
        "id": "OJ_gfjUK7pMc"
      },
      "source": [
        "img_label[122,2]"
      ],
      "execution_count": null,
      "outputs": []
    },
    {
      "cell_type": "code",
      "metadata": {
        "id": "PGmD1Tp17pMd"
      },
      "source": [
        "img_label[255,2]"
      ],
      "execution_count": null,
      "outputs": []
    },
    {
      "cell_type": "code",
      "metadata": {
        "id": "aqaf2DT-7pMd"
      },
      "source": [
        "# img = img[:,:,:3]\n",
        "img_label = np.zeros((img.shape[0],img.shape[1]),np.uint8)\n",
        "img_new_label = np.zeros((img.shape[0],img.shape[1]),np.uint8)\n",
        "for i in range(img.shape[0]):\n",
        "    for j in range(img.shape[1]):\n",
        "        value = list(img[i,j,:])\n",
        "#         print(img[i,j,:])\n",
        "        a = get_keys(value)\n",
        "#         print(a)\n",
        "        img_label[i,j] = a[0]\n",
        "        img_new_label[i,j] = img_label[i,j]\n",
        "# label0 = Image.fromarray(np.uint8(img_new_label))"
      ],
      "execution_count": null,
      "outputs": []
    },
    {
      "cell_type": "code",
      "metadata": {
        "id": "_6iRxaS57pMd"
      },
      "source": [
        "img_label.shape"
      ],
      "execution_count": null,
      "outputs": []
    },
    {
      "cell_type": "code",
      "metadata": {
        "id": "qySgsxkT7pMe"
      },
      "source": [
        "scipy.misc.toimage(img_label).save(\"E:\\BaiduNetdiskDownload\\classif_dataset\\WHU_seg\\WHU_seg_png\\WHU_seg_15class_png\\\\0.jpg\")"
      ],
      "execution_count": null,
      "outputs": []
    },
    {
      "cell_type": "code",
      "metadata": {
        "id": "JCm49QXW7pMe"
      },
      "source": [
        "img_hui = plt.imread(\"E:\\BaiduNetdiskDownload\\classif_dataset\\WHU_seg\\WHU_seg_png\\WHU_seg_15class_png\\\\0.jpg\")"
      ],
      "execution_count": null,
      "outputs": []
    },
    {
      "cell_type": "code",
      "metadata": {
        "id": "52r8MvwF7pMe"
      },
      "source": [
        "from PIL import Image\n",
        "label0 = Image.fromarray(np.uint8(img_new_label))"
      ],
      "execution_count": null,
      "outputs": []
    },
    {
      "cell_type": "code",
      "metadata": {
        "id": "Fwo5FFNO7pMe"
      },
      "source": [
        "type(label0)"
      ],
      "execution_count": null,
      "outputs": []
    },
    {
      "cell_type": "code",
      "metadata": {
        "id": "C9UXy8eU7pMf"
      },
      "source": [
        "Image."
      ],
      "execution_count": null,
      "outputs": []
    },
    {
      "cell_type": "code",
      "metadata": {
        "id": "gryrjuv87pMk"
      },
      "source": [
        "img_papa = [\"fg/2.ipg\",\"fg/0.ipg\",\"fg/1.ipg\"]"
      ],
      "execution_count": null,
      "outputs": []
    },
    {
      "cell_type": "code",
      "metadata": {
        "id": "4qtS1UrF7pMk"
      },
      "source": [
        "im = sorted(img_papa)"
      ],
      "execution_count": null,
      "outputs": []
    },
    {
      "cell_type": "code",
      "metadata": {
        "id": "2RBe70837pMl"
      },
      "source": [
        "im = \"E:\\BaiduNetdiskDownload\\classif_dataset\\WHU_seg\\WHU_seg_png\\WHU_seg_15class_png\\sub_label\\\\455.png\""
      ],
      "execution_count": null,
      "outputs": []
    },
    {
      "cell_type": "code",
      "metadata": {
        "id": "nsd5O42p7pMl"
      },
      "source": [
        "type(im[90:-4])"
      ],
      "execution_count": null,
      "outputs": []
    },
    {
      "cell_type": "code",
      "metadata": {
        "id": "qnSl_6457pMl"
      },
      "source": [
        "import glob\n",
        "import re\n",
        "img_path_root = glob.glob(\"E:\\BaiduNetdiskDownload\\classif_dataset\\WHU_seg\\WHU_seg_png\\WHU_seg_ftclass_png\\sub_label\\*.png\")\n",
        "img_path = img_path_root"
      ],
      "execution_count": null,
      "outputs": []
    },
    {
      "cell_type": "markdown",
      "metadata": {
        "id": "EePrCgIZ7pMl"
      },
      "source": [
        "# tiff to png"
      ]
    },
    {
      "cell_type": "code",
      "metadata": {
        "id": "YorT4Y907pMl"
      },
      "source": [
        "img_path = sorted(img_path[90:-4])"
      ],
      "execution_count": null,
      "outputs": []
    },
    {
      "cell_type": "code",
      "metadata": {
        "id": "jQIUR4Yy7pMl"
      },
      "source": [
        "img_path"
      ],
      "execution_count": null,
      "outputs": []
    },
    {
      "cell_type": "code",
      "metadata": {
        "id": "GjJmV80i7pMm"
      },
      "source": [
        "def sort_key(s):\n",
        "    if s:\n",
        "        try:\n",
        "            c = re.findall('\\d+$', s)[0]\n",
        "        except:\n",
        "            c = -1\n",
        "    return int(c)\n",
        "def strsort(alist):\n",
        "    alist.sort(key=sort_key,reverse=True)\n",
        "    return alist\n",
        "# img_path = sorted(img_path, key=sort_key, reverse=False)\n",
        "strd = strsort(img_path)\n",
        "# lambda i:int(re.search(r'(\\d+)',i).group())"
      ],
      "execution_count": null,
      "outputs": []
    },
    {
      "cell_type": "code",
      "metadata": {
        "id": "SlrnrOpM7pMm"
      },
      "source": [
        "img_path = sorted(img_path, key=lambda img_path:int(re.search(r'(\\d+)',img_path).group()))"
      ],
      "execution_count": null,
      "outputs": []
    },
    {
      "cell_type": "code",
      "metadata": {
        "id": "9kRW3koE7pMm"
      },
      "source": [
        "img_path[7279]"
      ],
      "execution_count": null,
      "outputs": []
    },
    {
      "cell_type": "code",
      "metadata": {
        "id": "LGoigUOP7pMm"
      },
      "source": [
        "imgs = 'E:\\\\BaiduNetdiskDownload\\\\classif_dataset\\\\WHU_seg\\\\WHU_seg_png\\\\WHU_seg_15class_png\\\\sub_label\\\\1233.png'"
      ],
      "execution_count": null,
      "outputs": []
    },
    {
      "cell_type": "code",
      "metadata": {
        "id": "UtmORze67pMm"
      },
      "source": [
        "img_path"
      ],
      "execution_count": null,
      "outputs": []
    },
    {
      "cell_type": "code",
      "metadata": {
        "id": "jM2Ll4hb7pMn"
      },
      "source": [
        "len(imgs)"
      ],
      "execution_count": null,
      "outputs": []
    },
    {
      "cell_type": "code",
      "metadata": {
        "id": "0PH6viyC7pMn"
      },
      "source": [
        "imgs[90:-4]"
      ],
      "execution_count": null,
      "outputs": []
    },
    {
      "cell_type": "code",
      "metadata": {
        "id": "PQpCi-sY7pMn"
      },
      "source": [
        "def get_keys(value):\n",
        "    label2color_dict = {\n",
        "                        0:[0,0,0],\n",
        "#                         0:[0,155,61],\n",
        "                        1:[200,0,0],\n",
        "                        2:[250,0,150],\n",
        "                        3:[200,150,150], \n",
        "                        4:[250,150,150],\n",
        "                        5:[0,200,0],\n",
        "                        6:[150,250,0],\n",
        "                        7:[150,200,150],\n",
        "                        8:[200,0,200],\n",
        "                        9:[150,0,250],\n",
        "                        10:[150,150,250],\n",
        "                        11:[250,200,0],\n",
        "                        12:[200,200,0],\n",
        "                        13:[0,0,200],\n",
        "                        14:[0,150,200],\n",
        "                        15:[0,200,250]\n",
        "                       }\n",
        "\n",
        "        \n",
        "    return [k for k,v in label2color_dict.items() if v==value]"
      ],
      "execution_count": null,
      "outputs": []
    },
    {
      "cell_type": "code",
      "metadata": {
        "id": "2oiRYOGI7pMn"
      },
      "source": [
        "img_path = glob.glob(\"E:\\BaiduNetdiskDownload\\classif_dataset\\WHU_seg\\WHU_seg_png\\WHU_seg_ftclass_png\\sub_label\\*.png\")\n",
        "img_path = sorted(img_path, key=lambda img_path:int(re.search(r'(\\d+)',img_path).group()))\n",
        "for k in range(1494, 1500):\n",
        "    img = img_path[k]\n",
        "    img = plt.imread(img)*255.0\n",
        "    img = img[:,:,:3]\n",
        "    img_label = np.zeros((img.shape[0],img.shape[1]),np.uint8)\n",
        "    img_new_label = np.zeros((img.shape[0],img.shape[1]),np.uint8)\n",
        "    for i in range(img.shape[0]):\n",
        "        for j in range(img.shape[1]):\n",
        "            value = list(img[i,j,:])\n",
        "#             print(img[i,j,:])\n",
        "            a = get_keys(value)\n",
        "#             print(a)\n",
        "            img_label[i,j] = a[0]\n",
        "            img_new_label[i,j] = img_label[i,j]\n",
        "    label0 = Image.fromarray(np.uint8(img_new_label))\n",
        "    p = str(k)\n",
        "    scipy.misc.toimage(img_label).save(\"E:\\BaiduNetdiskDownload\\classif_dataset\\WHU_seg\\WHU_seg_png\\WHU_seg_ftclass_png\\sub_label_huidutu\\\\\"+p+\".jpg\")"
      ],
      "execution_count": null,
      "outputs": []
    },
    {
      "cell_type": "code",
      "metadata": {
        "id": "mIsUcJtL7pMo"
      },
      "source": [
        "img = \"E:\\BaiduNetdiskDownload\\classif_dataset\\WHU_seg\\WHU_seg_png\\WHU_seg_ftclass_png\\sub_label\\\\1673.png\"\n",
        "img = plt.imread(img)*255"
      ],
      "execution_count": null,
      "outputs": []
    },
    {
      "cell_type": "code",
      "metadata": {
        "id": "v3g6YA7o7pMo"
      },
      "source": [
        "img.shape"
      ],
      "execution_count": null,
      "outputs": []
    },
    {
      "cell_type": "code",
      "metadata": {
        "id": "Is_UKZyv7pMo"
      },
      "source": [
        "728*2"
      ],
      "execution_count": null,
      "outputs": []
    },
    {
      "cell_type": "code",
      "metadata": {
        "id": "1SJRHAlO7pMo"
      },
      "source": [
        "import matplotlib.pyplot as plt\n",
        "import numpy as np\n",
        "import glob\n",
        "import scipy.misc\n",
        "from PIL import Image\n",
        "import re"
      ],
      "execution_count": null,
      "outputs": []
    },
    {
      "cell_type": "code",
      "metadata": {
        "id": "9tPlQ3fF7pMp"
      },
      "source": [
        "def get_keys(value):\n",
        "    label2color_dict = {\n",
        "                        0:[0,0,0],\n",
        "#                         0:[0,155,61],\n",
        "                        1:[200,0,0],\n",
        "                        2:[250,0,150],\n",
        "                        3:[200,150,150], \n",
        "                        4:[250,150,150],\n",
        "                        5:[0,200,0],\n",
        "                        6:[150,250,0],\n",
        "                        7:[150,200,150],\n",
        "                        8:[200,0,200],\n",
        "                        9:[150,0,250],\n",
        "                        10:[150,150,250],\n",
        "                        11:[250,200,0],\n",
        "                        12:[200,200,0],\n",
        "                        13:[0,0,200],\n",
        "                        14:[0,150,200],\n",
        "                        15:[0,200,250]\n",
        "                       }\n",
        "\n",
        "        \n",
        "    return [k for k,v in label2color_dict.items() if v==value]"
      ],
      "execution_count": null,
      "outputs": []
    },
    {
      "cell_type": "code",
      "metadata": {
        "id": "DYzbyzMc7pMp"
      },
      "source": [
        "label2color_dict = {\n",
        "                    0:[200,0,0],\n",
        "                    1:[250,0,150],\n",
        "                    2:[200,150,150], \n",
        "                    3:[250,150,150],\n",
        "                    4:[0,200,0],\n",
        "                    5:[150,250,0],\n",
        "                    6:[150,200,150],\n",
        "                    7:[200,0,200],\n",
        "                    8:[150,0,250],\n",
        "                    9:[150,150,250],\n",
        "                    10:[250,200,0],\n",
        "                    11:[200,200,0],\n",
        "                    12:[0,0,200],\n",
        "                    13:[0,150,200],\n",
        "                    14:[0,200,250],\n",
        "                    15:[0,0,0]\n",
        "                    }"
      ],
      "execution_count": null,
      "outputs": []
    },
    {
      "cell_type": "code",
      "metadata": {
        "id": "IDZ9r9h-7pMp"
      },
      "source": [
        "def get_keys(value):\n",
        "    p=0\n",
        "    i=0\n",
        "    for k,v in label2color_dict.items():\n",
        "        if v == value:\n",
        "            p = k\n",
        "            break\n",
        "        i += 1\n",
        "    if i > 15:\n",
        "        p = 15\n",
        "    return p"
      ],
      "execution_count": null,
      "outputs": []
    },
    {
      "cell_type": "code",
      "metadata": {
        "id": "YEulmggx7pMq",
        "outputId": "f0eefb5b-9f70-4fd2-ffe0-62e2c07bdba1"
      },
      "source": [
        "img_path = glob.glob(\"E:\\BaiduNetdiskDownload\\classif_dataset\\WHU_seg\\WHU_seg_png\\WHU_seg_ftclass_png\\sub_label\\*.png\")\n",
        "img_path = sorted(img_path, key=lambda img_path:int(re.search(r'(\\d+)',img_path).group()))\n",
        "for k in range(2809, 7280):\n",
        "    img = img_path[k]\n",
        "    img = plt.imread(img)*255.0\n",
        "    img = img[:,:,:3]\n",
        "    img_label = np.zeros((img.shape[0],img.shape[1]),np.uint8)\n",
        "    img_new_label = np.zeros((img.shape[0],img.shape[1]),np.uint8)\n",
        "    for i in range(img.shape[0]):\n",
        "        for j in range(img.shape[1]):\n",
        "            value = list(img[i,j,:])\n",
        "            img_label[i,j] = get_keys(value)\n",
        "            img_new_label[i,j] = img_label[i,j]\n",
        "    label0 = Image.fromarray(np.uint8(img_new_label))\n",
        "    p = str(k)\n",
        "    scipy.misc.toimage(img_label).save(\"E:\\BaiduNetdiskDownload\\classif_dataset\\WHU_seg\\WHU_seg_png\\\\WHU_seg_ftclass_png\\\\12_4\\\\\"+p+\".png\")"
      ],
      "execution_count": null,
      "outputs": [
        {
          "output_type": "stream",
          "text": [
            "D:\\anaconda_setup\\lib\\site-packages\\ipykernel_launcher.py:16: DeprecationWarning: `toimage` is deprecated!\n",
            "`toimage` is deprecated in SciPy 1.0.0, and will be removed in 1.2.0.\n",
            "Use Pillow's ``Image.fromarray`` directly instead.\n",
            "  app.launch_new_instance()\n"
          ],
          "name": "stderr"
        }
      ]
    },
    {
      "cell_type": "code",
      "metadata": {
        "id": "vKIUvA1J7pMr"
      },
      "source": [
        "img_path = \"E:\\BaiduNetdiskDownload\\classif_dataset\\WHU_seg\\WHU_seg_png\\WHU_seg_ftclass_png\\\\12_4\\\\0.jpg\""
      ],
      "execution_count": null,
      "outputs": []
    },
    {
      "cell_type": "code",
      "metadata": {
        "id": "S_rBEhpX7pMr"
      },
      "source": [
        "img_label_0 = \"E:\\BaiduNetdiskDownload\\classif_dataset\\WHU_seg\\WHU_seg_png\\WHU_seg_ftclass_png\\sub_label\\\\0.png\""
      ],
      "execution_count": null,
      "outputs": []
    },
    {
      "cell_type": "code",
      "metadata": {
        "id": "0ZA17Mc27pMr"
      },
      "source": [
        "img_label_00=plt.imread(img_label_0)*255"
      ],
      "execution_count": null,
      "outputs": []
    },
    {
      "cell_type": "code",
      "metadata": {
        "id": "TsOJrtDo7pMs"
      },
      "source": [
        "img_label = img_label_00[:,:,:3]"
      ],
      "execution_count": null,
      "outputs": []
    },
    {
      "cell_type": "code",
      "metadata": {
        "id": "A7ZtC12j7pMs"
      },
      "source": [
        "img = plt.imread(img_path)"
      ],
      "execution_count": null,
      "outputs": []
    },
    {
      "cell_type": "code",
      "metadata": {
        "id": "eLnQLzkd7pMt"
      },
      "source": [
        "img[0,230]"
      ],
      "execution_count": null,
      "outputs": []
    },
    {
      "cell_type": "code",
      "metadata": {
        "id": "081PIlNK7pMt"
      },
      "source": [
        "img_label[70,0,:]\n"
      ],
      "execution_count": null,
      "outputs": []
    },
    {
      "cell_type": "code",
      "metadata": {
        "id": "FAm8U73j7pMu"
      },
      "source": [
        "img = plt.imread(r\"E:\\BaiduNetdiskDownload\\classif_dataset\\WHU_seg\\WHU_seg_png\\WHU_seg_ftclass_png\\WHUlabel_remove_zero_gray\\0.jpg\")"
      ],
      "execution_count": null,
      "outputs": []
    },
    {
      "cell_type": "code",
      "metadata": {
        "id": "g7-E3hc67pMu"
      },
      "source": [
        "img_path = \"E:\\BaiduNetdiskDownload\\classif_dataset\\WHU_seg\\WHU_seg_png\\WHU_seg_ftclass_png\\sub_label_huidutu/0.jpg\""
      ],
      "execution_count": null,
      "outputs": []
    },
    {
      "cell_type": "code",
      "metadata": {
        "id": "aFPSJeU27pMu"
      },
      "source": [
        "import matplotlib.pyplot as plt\n",
        "img = plt.imread(img_path)"
      ],
      "execution_count": null,
      "outputs": []
    },
    {
      "cell_type": "code",
      "metadata": {
        "id": "7m-2s4bq7pMv"
      },
      "source": [
        "img.shape"
      ],
      "execution_count": null,
      "outputs": []
    },
    {
      "cell_type": "code",
      "metadata": {
        "id": "1SCvBOc57pMv"
      },
      "source": [
        "type(img)"
      ],
      "execution_count": null,
      "outputs": []
    },
    {
      "cell_type": "code",
      "metadata": {
        "id": "ITquyAv37pMv"
      },
      "source": [
        "np.unique(img)"
      ],
      "execution_count": null,
      "outputs": []
    },
    {
      "cell_type": "code",
      "metadata": {
        "id": "ADrMlZan7pMv"
      },
      "source": [
        "img_img = \"E:\\BaiduNetdiskDownload\\classif_dataset\\WHU_seg\\WHU_seg_png\\WHU_seg_ftclass_png\\sub_label\\\\0.png\""
      ],
      "execution_count": null,
      "outputs": []
    },
    {
      "cell_type": "code",
      "metadata": {
        "id": "KUhjGXY07pMv"
      },
      "source": [
        "img_o = plt.imread(img_img)*255"
      ],
      "execution_count": null,
      "outputs": []
    },
    {
      "cell_type": "code",
      "metadata": {
        "id": "-j-_UfvB7pMv"
      },
      "source": [
        "img_op = img_o[:,:,:3]"
      ],
      "execution_count": null,
      "outputs": []
    },
    {
      "cell_type": "code",
      "metadata": {
        "id": "PFTpPmym7pMw"
      },
      "source": [
        "list(img_op[0,0,:])==[150,250,0]"
      ],
      "execution_count": null,
      "outputs": []
    },
    {
      "cell_type": "code",
      "metadata": {
        "id": "V1VGs1Q87pMw"
      },
      "source": [
        "label2color_dict = {\n",
        "                    0:[0,0,0],\n",
        "                    1:[255,255,255],\n",
        "                    }\n",
        "def get_keys(value):\n",
        "    p=0\n",
        "    i=0\n",
        "    for k,v in label2color_dict.items():\n",
        "        if v == value:\n",
        "            p = k\n",
        "            break\n",
        "        i += 1\n",
        "    if i > 1:\n",
        "        p = 1\n",
        "    return p\n"
      ],
      "execution_count": null,
      "outputs": []
    },
    {
      "cell_type": "code",
      "metadata": {
        "id": "YZ8xsOkY7pMw",
        "outputId": "f45e8b33-dda4-4bc3-fae7-a482b26307b6"
      },
      "source": [
        "img_path = glob.glob(\"E:\\RS_datasets\\SZTAKI_AirChange_Benchmark\\SZTAKI_AirChange_Benchmark\\Szada\\Szada_sub_png\\ground_truth\\*.png\")\n",
        "img_path = sorted(img_path, key=lambda img_path:int(re.search(r'(\\d+)',img_path).group()))\n",
        "for k in range(0, 42):\n",
        "    img = img_path[k]\n",
        "    img = plt.imread(img)\n",
        "    img = img[:,:,:3]\n",
        "    img_label = np.zeros((img.shape[0],img.shape[1]),np.uint8)\n",
        "    img_new_label = np.zeros((img.shape[0],img.shape[1]),np.uint8)\n",
        "    for i in range(img.shape[0]):\n",
        "        for j in range(img.shape[1]):\n",
        "            value = list(img[i,j,:])\n",
        "            img_label[i,j] = get_keys(value)\n",
        "            img_new_label[i,j] = img_label[i,j]\n",
        "    label0 = Image.fromarray(np.uint8(img_new_label))\n",
        "    p = str(k)\n",
        "    scipy.misc.toimage(img_label).save(\"E:\\RS_datasets\\SZTAKI_AirChange_Benchmark\\SZTAKI_AirChange_Benchmark\\Szada\\Szada_sub_png\\single_channel_GT/\"+p+\".png\")"
      ],
      "execution_count": null,
      "outputs": [
        {
          "output_type": "stream",
          "text": [
            "D:\\anaconda_setup\\lib\\site-packages\\ipykernel_launcher.py:16: DeprecationWarning: `toimage` is deprecated!\n",
            "`toimage` is deprecated in SciPy 1.0.0, and will be removed in 1.2.0.\n",
            "Use Pillow's ``Image.fromarray`` directly instead.\n",
            "  app.launch_new_instance()\n"
          ],
          "name": "stderr"
        }
      ]
    },
    {
      "cell_type": "code",
      "metadata": {
        "id": "4ObP4nP-7pMw"
      },
      "source": [
        "img = plt.imread(\"E:\\RS_datasets\\SZTAKI_AirChange_Benchmark\\SZTAKI_AirChange_Benchmark\\Szada\\Szada_sub_png\\ground_truth/1.png\")"
      ],
      "execution_count": null,
      "outputs": []
    },
    {
      "cell_type": "code",
      "metadata": {
        "id": "MxmD0z2v7pMw"
      },
      "source": [
        "img_path = glob.glob(\"E:\\BaiduNetdiskDownload\\classif_dataset\\WHU_seg\\WHU_seg_png\\label\\GF2_PMS1__L1A0001064454-MSS1_label.png\")\n",
        "# img_path = sorted(img_path, key=lambda img_path:int(re.search(r'(\\d+)',img_path).group()))\n",
        "# for k in range(2809, 7280):\n",
        "    img = img_path[k]\n",
        "    img = plt.imread(img)*255.0\n",
        "    img = img[:,:,:3]\n",
        "    img_label = np.zeros((img.shape[0],img.shape[1]),np.uint8)\n",
        "    img_new_label = np.zeros((img.shape[0],img.shape[1]),np.uint8)\n",
        "    for i in range(img.shape[0]):\n",
        "        for j in range(img.shape[1]):\n",
        "            value = list(img[i,j,:])\n",
        "            img_label[i,j] = get_keys(value)\n",
        "            img_new_label[i,j] = img_label[i,j]\n",
        "    label0 = Image.fromarray(np.uint8(img_new_label))\n",
        "    p = str(k)\n",
        "    scipy.misc.toimage(img_label).save(\"E:\\BaiduNetdiskDownload\\classif_dataset\\WHU_seg\\WHU_seg_png\\\\WHU_seg_ftclass_png\\\\12_4\\\\\"+p+\".png\")"
      ],
      "execution_count": null,
      "outputs": []
    },
    {
      "cell_type": "code",
      "metadata": {
        "id": "E7HwDmOf7pMx",
        "outputId": "8c517097-aee4-4efb-eaa8-ea0ad86b6430"
      },
      "source": [
        "img_path = \"E:\\BaiduNetdiskDownload\\classif_dataset\\WHU_seg\\WHU_seg_png\\label\\GF2_PMS2__L1A0001821754-MSS2_label.png\"\n",
        "img = plt.imread(img_path)*255.0\n",
        "img = img[:,:,:3]\n",
        "img_label = np.zeros((img.shape[0],img.shape[1]), np.uint8)\n",
        "img_new_label = np.zeros((img.shape[0], img.shape[1]), np.uint8)\n",
        "for i in range(img.shape[0]):\n",
        "    for j in range(img.shape[1]):\n",
        "        value = list(img[i,j,:])\n",
        "        img_label[i,j] = get_keys(value)\n",
        "        img_new_label[i,j] = img_label[i,j]\n",
        "label0 = Image.fromarray(np.uint8(img_new_label))\n",
        "scipy.misc.toimage(img_label).save(\"E:\\BaiduNetdiskDownload\\classif_dataset\\WHU_seg\\WHU_seg_png\\WHU_seg_fourMulfour/label/GF2_PMS2__L1A0001821754-MSS2_label.png\")"
      ],
      "execution_count": null,
      "outputs": [
        {
          "output_type": "stream",
          "text": [
            "D:\\anaconda_setup\\lib\\site-packages\\ipykernel_launcher.py:12: DeprecationWarning: `toimage` is deprecated!\n",
            "`toimage` is deprecated in SciPy 1.0.0, and will be removed in 1.2.0.\n",
            "Use Pillow's ``Image.fromarray`` directly instead.\n",
            "  if sys.path[0] == '':\n"
          ],
          "name": "stderr"
        }
      ]
    },
    {
      "cell_type": "code",
      "metadata": {
        "id": "zWAdwOf37pMx",
        "outputId": "134bcdd7-e38d-4ca5-e4d8-452a09e3ddad"
      },
      "source": [
        "img_path = \"E:\\BaiduNetdiskDownload\\classif_dataset\\WHU_seg\\WHU_seg_png\\label\\GF2_PMS2__L1A0001787564-MSS2_label.png\"\n",
        "img = plt.imread(img_path)*255.0\n",
        "img = img[:,:,:3]\n",
        "img_label = np.zeros((img.shape[0],img.shape[1]), np.uint8)\n",
        "img_new_label = np.zeros((img.shape[0], img.shape[1]), np.uint8)\n",
        "for i in range(img.shape[0]):\n",
        "    for j in range(img.shape[1]):\n",
        "        value = list(img[i,j,:])\n",
        "        img_label[i,j] = get_keys(value)\n",
        "        img_new_label[i,j] = img_label[i,j]\n",
        "label0 = Image.fromarray(np.uint8(img_new_label))\n",
        "scipy.misc.toimage(img_label).save(\"E:\\BaiduNetdiskDownload\\classif_dataset\\WHU_seg\\WHU_seg_png\\WHU_seg_fourMulfour/label/GF2_PMS2__L1A0001787564-MSS2_label.png\")"
      ],
      "execution_count": null,
      "outputs": [
        {
          "output_type": "stream",
          "text": [
            "D:\\anaconda_setup\\lib\\site-packages\\ipykernel_launcher.py:12: DeprecationWarning: `toimage` is deprecated!\n",
            "`toimage` is deprecated in SciPy 1.0.0, and will be removed in 1.2.0.\n",
            "Use Pillow's ``Image.fromarray`` directly instead.\n",
            "  if sys.path[0] == '':\n"
          ],
          "name": "stderr"
        }
      ]
    },
    {
      "cell_type": "markdown",
      "metadata": {
        "id": "VqboVuIg7pMx"
      },
      "source": [
        "# Image difference"
      ]
    },
    {
      "cell_type": "code",
      "metadata": {
        "id": "TP3m8Q5-7pMx"
      },
      "source": [
        "import matplotlib.pyplot as plt\n",
        "import numpy as np"
      ],
      "execution_count": null,
      "outputs": []
    },
    {
      "cell_type": "code",
      "metadata": {
        "id": "rbmHvZEh7pMy"
      },
      "source": [
        "def read_img(img_path):\n",
        "    img = plt.imread(img_path)\n",
        "    img = img[:,:,:3]\n",
        "    return img"
      ],
      "execution_count": null,
      "outputs": []
    },
    {
      "cell_type": "code",
      "metadata": {
        "id": "p3DxG8tc7pMy"
      },
      "source": [
        "img1 = plt.imread(\"F:\\RS_datasets\\SZTAKI_AirChange_Benchmark\\SZTAKI_AirChange_Benchmark\\Szada/1/im1.bmp\")\n",
        "img2 = plt.imread(\"F:\\RS_datasets\\SZTAKI_AirChange_Benchmark\\SZTAKI_AirChange_Benchmark\\Szada/1/im2.bmp\")"
      ],
      "execution_count": null,
      "outputs": []
    },
    {
      "cell_type": "code",
      "metadata": {
        "id": "bbQNaZjP7pMy"
      },
      "source": [
        "img_new = np.abs(img1-img2)"
      ],
      "execution_count": null,
      "outputs": []
    },
    {
      "cell_type": "code",
      "metadata": {
        "id": "kV4nrFEO7pMy",
        "outputId": "d3d08765-0abb-4194-a609-e3c0329f4afc"
      },
      "source": [
        "img_new.shape"
      ],
      "execution_count": null,
      "outputs": [
        {
          "output_type": "execute_result",
          "data": {
            "text/plain": [
              "(640, 952, 3)"
            ]
          },
          "metadata": {
            "tags": []
          },
          "execution_count": 6
        }
      ]
    },
    {
      "cell_type": "code",
      "metadata": {
        "id": "lmaTWwZQ7pMy"
      },
      "source": [
        "import matplotlib\n",
        "matplotlib.image.imsave(\"F:\\RS_datasets\\SZTAKI_AirChange_Benchmark\\SZTAKI_AirChange_Benchmark\\Tiszadob/1/chazhi11.png\", img_new)"
      ],
      "execution_count": null,
      "outputs": []
    },
    {
      "cell_type": "code",
      "metadata": {
        "id": "YpCtTJoP7pMz"
      },
      "source": [
        "img11 = plt.imread(\"F:\\RS_datasets\\SZTAKI_AirChange_Benchmark\\SZTAKI_AirChange_Benchmark\\Tiszadob/1/chazhi.png\")"
      ],
      "execution_count": null,
      "outputs": []
    },
    {
      "cell_type": "code",
      "metadata": {
        "id": "BAuU-3XM7pMz",
        "outputId": "c5930235-6dfb-4827-8778-52ef895fd444"
      },
      "source": [
        "img11.shape"
      ],
      "execution_count": null,
      "outputs": [
        {
          "output_type": "execute_result",
          "data": {
            "text/plain": [
              "(640, 952, 4)"
            ]
          },
          "metadata": {
            "tags": []
          },
          "execution_count": 26
        }
      ]
    },
    {
      "cell_type": "code",
      "metadata": {
        "id": "2LdCEx2A7pMz"
      },
      "source": [
        ""
      ],
      "execution_count": null,
      "outputs": []
    }
  ]
}